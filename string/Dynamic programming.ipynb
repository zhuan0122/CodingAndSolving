{
 "cells": [
  {
   "cell_type": "markdown",
   "metadata": {},
   "source": [
    "### 1. 编辑距离 \n",
    "* 基本题目 就是每次操作的代价是1 则我们主要计算操作的次数 因为每次次数代价是1 \n",
    "* 衍生题目 每次操作的代价 不是1 对应不同的代价值， 插入&删除或者替换都是不同的代价 \n"
   ]
  },
  {
   "cell_type": "markdown",
   "metadata": {},
   "source": [
    "*  * *********************************************\n",
    "#### 1.\n",
    "给你两个单词 word1 和 word2， 请返回将 word1 转换成 word2 所使用的最少操作数  。\n",
    "\n",
    "你可以对一个单词进行如下三种操作：\n",
    "\n",
    "    插入一个字符\n",
    "    删除一个字符\n",
    "    替换一个字符\n",
    "\n",
    "来源：力扣（LeetCode）\n",
    "链接：https://leetcode-cn.com/problems/edit-distance\n",
    "著作权归领扣网络所有。商业转载请联系官方授权，非商业转载请注明出处。"
   ]
  },
  {
   "cell_type": "code",
   "execution_count": 2,
   "metadata": {},
   "outputs": [],
   "source": [
    "class Solution:\n",
    "    def minDistance(self, word1: str, word2: str) -> int:\n",
    "        n= len(word1)\n",
    "        m= len(word2)\n",
    "\n",
    "        # consider null case\n",
    "        if n*m==0:\n",
    "            return n+m\n",
    "        \n",
    "        # initialize two dimensional array. m+1 is the columns, n+1 is rows. m+1 columns since we need to consider null case \n",
    "        D=[[0]*(m+1) for i in range(n+1)]\n",
    "\n",
    "        # edge cases \n",
    "        for i in range(n+1):\n",
    "            D[i][0]=i\n",
    "        for j in range(m+1):\n",
    "            D[0][j]=j\n",
    "\n",
    "        # fill in or calculate all [i][j] values\n",
    "        for i in range(1, n+1):\n",
    "            for j in range(1,m+1):\n",
    "                left=D[i-1][j]+1 \n",
    "                down= D[i][j-1]+1\n",
    "                left_down=D[i-1][j-1]\n",
    "                if word1[i-1]!=word2[j-1]:\n",
    "                    left_down=left_down+1\n",
    "                D[i][j]=min(left, down, left_down)\n",
    "        \n",
    "        return D[n][m]"
   ]
  },
  {
   "cell_type": "markdown",
   "metadata": {},
   "source": [
    "**************************************************\n",
    "##### 2. \n",
    "描述\n",
    "给定两个字符串str1和str2，再给定三个整数ic，dc和rc，分别代表插入、删除和替换一个字符的代价，请输出将str1编辑成str2的最小代价。\n",
    "\n",
    "数据范围：0≤∣str1∣,∣str2∣≤50000 \\le |str1|,|str2| \\le 50000≤∣str1∣,∣str2∣≤5000，0≤ic,dc,rc≤10000 0\\le ic,dc,rc \\le 10000\\ 0≤ic,dc,rc≤10000 \n",
    "要求：空间复杂度 O(n)O(n)O(n)，时间复杂度 O(nlogn)O(nlogn)O(nlogn)\n"
   ]
  },
  {
   "cell_type": "code",
   "execution_count": null,
   "metadata": {},
   "outputs": [],
   "source": [
    "class Solution:\n",
    "    def minEditCost(self , str1: str, str2: str, ic: int, dc: int, rc: int) -> int:\n",
    "        # write code here\n",
    "        # minimum cost \n",
    "        n= len(str1)\n",
    "        m=len(str2)\n",
    "        \n",
    "        #consider null case\n",
    "        if n==0 and m!=0:\n",
    "            # insert in str1 to be str2\n",
    "            return m*ic \n",
    "        if m==0 and n!=0:\n",
    "            #delete from str1 to be null\n",
    "            return dc*n\n",
    "        # initialize two dimensional array\n",
    "        DP= [[0]*(m+1) for _ in range(n+1)]\n",
    "        print('dp1',DP)\n",
    "        #fill in edge case \n",
    "        for i in range(n+1):\n",
    "            DP[i][0]=i*dc # str2 is null, then we ned delete from str1 with i times insertion, couning as dc\n",
    "        for j in range(m+1):\n",
    "            DP[0][j]=j*ic # str1 is null then make it to be as str2[:j] then insert \n",
    "        print('dp2',DP)\n",
    "        \n",
    "        # calculate DP[i][j] based on dynamic equation\n",
    "        #DP[i][j] = min(DP[i-1][j]+1, DP[i][j-1]+1, DP[i-1][j-1]+ int(str1[i]!=str2[j]))\n",
    "        for i in range(1,n+1):\n",
    "            for j in range(1,m+1):\n",
    "                left=DP[i-1][j]+1*dc # delete from str1, 1 means one operation\n",
    "                down=DP[i][j-1]+1*ic # insert into str1 1 means one operation like insert/delete once\n",
    "                left_down=DP[i-1][j-1] # \n",
    "                if str1[i-1] != str2[j-1]:\n",
    "                    # 这里 条件 index 是 i-1, j-1 是因为DP 比实际字串多一行和一列。 理解时候理解为对角上的变换\n",
    "                    # 比如 你已经 填了 所有边界条件，并且 推出 DP[1][1] 代价为 X， 你想知道 DP[2][2] 代表的代价\n",
    "                    #值是多少  字符串1 是HOR， 字符串2 是RO。 所以 DP[1][1] 代表从字符串1 的前1个字符就是H \n",
    "                    #编辑到字符串2 的前1 个字符就是 R 的代价是X， 问的是从字符串的前2个字符 HO 编辑到 字符串的前\n",
    "                    # 2 个字符 RO 的代价是多少。我们可以列一个 二维的 DP 列表 考虑空字符情况和 各有1个字符等等 \n",
    "                    #所有可能长度的组合是一个二维的数组列表。 DP[2][2] 可以由 DP[2][1] 加操作得到 就是 HO 先编辑成\n",
    "                    # R 然后 只要插入O 就是 RO 所以代价是 DP[2][1]+1, 或者 从 DP[1][2] 就是H 先变成 RO 再 因为 \n",
    "                    #两个字符串的第二个字符相等 所以DP[2][2]不用再编辑这样就是 代价值DP[1][1]==DP[2][2]. \n",
    "                    # 这里条件判断时候。I,J 是2 但是字符是从INDEX 0 开始count。所以条件是str1[i-1] != str2[j-1]:?  \n",
    "                    # 如果 两个字符的第二个字符不相等 那么我们需要进行替换的操作比如 字符串前两个字符不是HO 而是 HY\n",
    "                    # 这样编辑成 RO 时候 我们已经知道H 到R 的代价 那么需要变成RO 就是 替换 Y 变成O \n",
    "                    # 这样我们就需要 在DP[1][1] 上加上 替换的代价值就是 我们下面做的 \n",
    "                    left_down+=1*rc # if the letter is not the same then we need to replace \n",
    "                DP[i][j]= min(left,down,left_down)\n",
    "        return DP[n][m]"
   ]
  }
 ],
 "metadata": {
  "kernelspec": {
   "display_name": "Python 3",
   "language": "python",
   "name": "python3"
  },
  "language_info": {
   "codemirror_mode": {
    "name": "ipython",
    "version": 3
   },
   "file_extension": ".py",
   "mimetype": "text/x-python",
   "name": "python",
   "nbconvert_exporter": "python",
   "pygments_lexer": "ipython3",
   "version": "3.8.5"
  }
 },
 "nbformat": 4,
 "nbformat_minor": 4
}
