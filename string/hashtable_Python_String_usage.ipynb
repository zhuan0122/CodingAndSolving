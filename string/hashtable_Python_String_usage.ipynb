{
 "cells": [
  {
   "cell_type": "markdown",
   "metadata": {},
   "source": [
    "#### NC31 第一个只出现一次的字符\n",
    "*************************************\n",
    "简单\n",
    "通过率：31.39% 时间限制：1秒\n",
    "空间限制：64M\n",
    "知识点\n",
    "字符串\n",
    "描述\n",
    "在一个长为 字符串中找到第一个只出现一次的字符,并返回它的位置, 如果没有则返回 -1（需要区分大小写）.（从0开始计数）\n",
    "\n",
    "\n",
    "数据范围：0≤n≤100000 \\le n \\le 100000≤n≤10000，且字符串只有字母组成。\n",
    "要求：空间复杂度 O(n)O(n)O(n)，时间复杂度 O(n)O(n)O(n)\n",
    "\n",
    "理解 HASH TABLE 哈希表在PYTHON 中的使用形式"
   ]
  },
  {
   "cell_type": "code",
   "execution_count": null,
   "metadata": {},
   "outputs": [],
   "source": [
    "class Solution:\n",
    "    def FirstNotRepeatingChar(self , str: str) -> int:\n",
    "        # write code here\n",
    "        # \n",
    "        cache={}\n",
    "        for i in range(len(str)):\n",
    "            if str[i] not in cache:\n",
    "                cache[str[i]]=i\n",
    "            else:\n",
    "                cache[str[i]]='not only'\n",
    "        for s in cache:\n",
    "            if cache[s]=='not only':\n",
    "                continue\n",
    "            else:\n",
    "                return cache[s]\n",
    "        return -1\n",
    "# time complaxity O(2n) >> O(n)\n",
    "# space complexity cache is O(n)"
   ]
  },
  {
   "cell_type": "code",
   "execution_count": 2,
   "metadata": {},
   "outputs": [
    {
     "name": "stdout",
     "output_type": "stream",
     "text": [
      "(1, 5)\n"
     ]
    }
   ],
   "source": []
  }
 ],
 "metadata": {
  "kernelspec": {
   "display_name": "Python 3",
   "language": "python",
   "name": "python3"
  },
  "language_info": {
   "codemirror_mode": {
    "name": "ipython",
    "version": 3
   },
   "file_extension": ".py",
   "mimetype": "text/x-python",
   "name": "python",
   "nbconvert_exporter": "python",
   "pygments_lexer": "ipython3",
   "version": "3.8.5"
  }
 },
 "nbformat": 4,
 "nbformat_minor": 4
}
