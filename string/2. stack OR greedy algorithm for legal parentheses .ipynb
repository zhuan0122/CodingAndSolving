{
 "cells": [
  {
   "cell_type": "markdown",
   "metadata": {},
   "source": [
    "### 1.   NC175 合法的括号字符串\n",
    "知识点/ 贪心/ 动态规划/ 字符串/ 栈/ 描述\n",
    "***\n",
    "给定一个字符串s，字符串s只包含以下三种字符: (，*，)，请你判断 s是不是一个合法的括号字符串。合法括号字符串有如下规则: /\n",
    "\n",
    "* 1.左括号'('必须有对应的右括号')'\n",
    "* 2.右括号')'必须有对应的左括号'('\n",
    "* 3.左括号必须在对应的右括号前面\n",
    "* 4.*可以视为单个左括号，也可以视为单个右括号，或者视为一个空字符\n",
    "* 5.空字符串也视为合法的括号字符串\n",
    "\n",
    "数据范围:\n",
    "1<=s.length<=1001<=s.length<=1001<=s.length<=100"
   ]
  },
  {
   "cell_type": "code",
   "execution_count": null,
   "metadata": {},
   "outputs": [],
   "source": [
    "#\n",
    "# 代码中的类名、方法名、参数名已经指定，请勿修改，直接返回方法规定的值即可\n",
    "#\n",
    "# \n",
    "# @param s string字符串 \n",
    "# @return bool布尔型\n",
    "# 贪心算法 是什么 \n",
    "class Solution:\n",
    "    def isValidString(self , s: str) -> bool:\n",
    "        # write code here\n",
    "        # 用两个栈 分别存入 左括号和 星号 \n",
    "        # 首先 我们知道 遇到右括号 我们需要有左括号或者星号来配对。\n",
    "        # 我们入栈时候 入的是 对应的 字符所在的INDEX 当所有的右括号都配完了，剩下 的左括号的时候 左括号的位置\n",
    "        # 需要在 星号所在位置的 前面 如果在所有星号的后面的话 那就返回FALSE \n",
    "        # 1. 遇到右括号就出栈 左括号来配， 不够 的话 拿星号来配  如果还不够 FALSE. \n",
    "        # 2. 如果右括号配对完事了 左括号 配完 只剩下 * 则 TRUE 因为 星号 可以当空隔\n",
    "        # 3. 如果右括号配完了 左括号还剩了 那么 拿星号去配对左括号。 如果还剩左括号则 FALSE \n",
    "        # 4. 原则就是左括号 或者右括号不可以剩下。 星号可以剩下\n",
    "        \n",
    "        left=[]\n",
    "        star= []\n",
    "        # in stack\n",
    "        for  i in range(len(s)):\n",
    "            charAti= s[i]\n",
    "            if charAti == '(':\n",
    "                left.append(i)\n",
    "            elif charAti == '*':\n",
    "                star.append(i)\n",
    "            elif charAti == ')':\n",
    "                # first match left parenthese \n",
    "                if len(left)>0:\n",
    "                    left.pop()\n",
    "                    continue \n",
    "                elif len(star)>0:\n",
    "                    # if left has run out of then match star or asterisk\n",
    "                    star.pop()\n",
    "                    continue \n",
    "                else:\n",
    "                    # if asrerisk has also no matching then return False\n",
    "                    return False \n",
    "                \n",
    "        # check if there is left parenthese or star left over \n",
    "        while len(left)>0 and len(star)>0:\n",
    "            \n",
    "            # after mactching all right parenthese, we still have left parenthese left \n",
    "            index1 = left.pop()\n",
    "            index2=star.pop()\n",
    "            if index1>index2:\n",
    "                # this means left parenthese is at the right side of star \n",
    "                return False\n",
    "        return True if len(left)==0 else False                \n",
    "            "
   ]
  },
  {
   "cell_type": "markdown",
   "metadata": {},
   "source": [
    "### 2. NC52 有效括号序列 \n",
    "* 给出一个仅包含字符'(',')','{','}','['和']',的字符串，判断给出的字符串是否是合法的括号序列\n",
    "* 括号必须以正确的顺序关闭，\"()\"和\"()[]{}\"都是合法的括号序列，但\"(]\"和\"([)]\"不合法。\n",
    "\n",
    "* 数据范围：字符串长度 0≤n≤100000\\le n \\le 100000≤n≤10000\n",
    "* 要求：空间复杂度 O(n)O(n)O(n)，时间复杂度 O(n)O(n)O(n) "
   ]
  },
  {
   "cell_type": "code",
   "execution_count": 1,
   "metadata": {},
   "outputs": [],
   "source": [
    "class Solution:\n",
    "    def isValid(self , s: str) -> bool:\n",
    "        # write code here\n",
    "        # 1. left elements in satck \n",
    "        cache={'}':'{',']':'[',')':'('}\n",
    "        stk = []\n",
    "        for ch in s:\n",
    "            if ch in '([{':\n",
    "                # in stack with left bracket\n",
    "                stk.append(ch)\n",
    "                # break the for loop\n",
    "                #break\n",
    "            if ch in ')]}':\n",
    "                if not stk:\n",
    "                    return False \n",
    "                else:\n",
    "                    # we need to use stk[-1] to pick the element but not removing it from stack\n",
    "                    if cache[ch] == stk[-1]:\n",
    "                        stk.pop()\n",
    "        return True if not stk else False\n",
    "            "
   ]
  },
  {
   "cell_type": "markdown",
   "metadata": {},
   "source": [
    "#### 3."
   ]
  }
 ],
 "metadata": {
  "kernelspec": {
   "display_name": "Python 3",
   "language": "python",
   "name": "python3"
  },
  "language_info": {
   "codemirror_mode": {
    "name": "ipython",
    "version": 3
   },
   "file_extension": ".py",
   "mimetype": "text/x-python",
   "name": "python",
   "nbconvert_exporter": "python",
   "pygments_lexer": "ipython3",
   "version": "3.8.5"
  }
 },
 "nbformat": 4,
 "nbformat_minor": 4
}
