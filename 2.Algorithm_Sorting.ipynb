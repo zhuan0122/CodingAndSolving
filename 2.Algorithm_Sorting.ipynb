{
 "cells": [
  {
   "cell_type": "markdown",
   "metadata": {},
   "source": [
    "### Sorting Algorithm\n",
    "* **Sorting is not a big deal when it comes to small data. but when data is growing larger and larger. it is important to sort them and process them for easily access**\n",
    "\n",
    "* The goal of this course is teaching us several most improtant sorting algorithms and more importantly it will talk about the tradeoff of these sorting algorithm. so it is helpful to become a better engine and have intelligent opinion in the interview about the sorting algorithms.\n",
    "  * **Bubble sort**\n",
    "  * **Insertion sort**\n",
    "  * **Selection sort**\n",
    "  * **Merge sort**\n",
    "  * **Quick sort**\n",
    "  \n",
    "* as more and more data handled by your computer. sorting and searching are two biggest problem in the Software world. \n",
    "\n",
    "\n",
    "* <span style='color: red'> https://www.youtube.com/watch?v=XaqR3G_NVoo \n",
    "    dancing algoritms really helps to understand the sorting algorithms\n"
   ]
  },
  {
   "cell_type": "markdown",
   "metadata": {},
   "source": [
    "#### help to understand the time complexity of merge sort and quick sort. O(nlogn) \n",
    "https://www.khanacademy.org/computing/computer-science/algorithms/merge-sort/a/analysis-of-merge-sort\n",
    "    \n"
   ]
  },
  {
   "cell_type": "markdown",
   "metadata": {},
   "source": [
    "### 1.1 The issue with Sort\n",
    "* In Python sort seems work to sort values and strings by comparing the first letter of the words. Lower case letter and upper case letter are different.\n",
    "* But in Java script. sort does not work to sort numbers directly:\n",
    "  It requiers an additional compration func inside the sort() to make sort work: If compareFunction is not supplied, all non-undefined array elements are sorted by converting them to strings and **comparing strings in UTF-16 code units order**. For example, \"banana\" comes before \"cherry\". In a numeric sort, 9 comes before 80, but because numbers are converted to strings, \"80\" comes before \"9\" in the Unicode order. All undefined elements are sorted to the end of the array.\n",
    "\n",
    "help to understand:\\\n",
    "https://developer.mozilla.org/en-US/docs/Web/JavaScript/Reference/Global_Objects/Array/sort\n",
    "\n",
    "https://repl.it/@codesandtags/sorting-exampl\n",
    "\n",
    "https://www.udemy.com/user/codes-and-tags/"
   ]
  },
  {
   "cell_type": "code",
   "execution_count": 14,
   "metadata": {},
   "outputs": [
    {
     "data": {
      "text/plain": [
       "[1, 2, 2, 7, 8, 34, 65]"
      ]
     },
     "execution_count": 14,
     "metadata": {},
     "output_type": "execute_result"
    }
   ],
   "source": [
    "lt= [2,65,34, 2, 1,7,8]\n",
    "lt.sort()\n",
    "lt"
   ]
  },
  {
   "cell_type": "code",
   "execution_count": 9,
   "metadata": {},
   "outputs": [
    {
     "data": {
      "text/plain": [
       "['a', 'b', 'c', 'e', 'g', 't']"
      ]
     },
     "execution_count": 9,
     "metadata": {},
     "output_type": "execute_result"
    }
   ],
   "source": [
    "lt=['a','c','e','t','g','b']\n",
    "lt.sort()\n",
    "lt"
   ]
  },
  {
   "cell_type": "code",
   "execution_count": 13,
   "metadata": {},
   "outputs": [
    {
     "data": {
      "text/plain": [
       "['huan', 'johan', 'mARTIN', 'rikard']"
      ]
     },
     "execution_count": 13,
     "metadata": {},
     "output_type": "execute_result"
    }
   ],
   "source": [
    "lt=['huan','johan','rikard','mARTIN']\n",
    "lt.sort()\n",
    "lt"
   ]
  },
  {
   "cell_type": "markdown",
   "metadata": {},
   "source": [
    "### 1.2 Sorting Algorithms\n",
    "* Basiclly we will not be asked to write the sort algprithm from scratch but the point in this section is helping us to underatnd the tradeoff of sort algorithms and know when we should use which sort algorithm. Literally from the BIG O time complexity and space complexity and make your right decison for when to use what. \n",
    "\n",
    "* Bubble sort \\\n",
    "  Insertion sort\\\n",
    "  Selection sort\\\n",
    "  are 3 sort algorithms will at be at your top of head. they are most basic sorting and also easy ones. \n",
    "  \n",
    "* More complex ones: \\ also efficient\n",
    "  Merge sort \\\n",
    "  Quick sort\\"
   ]
  },
  {
   "cell_type": "markdown",
   "metadata": {},
   "source": [
    "* Playing with this https://www.toptal.com/developers/sorting-algorithms to get a better comprehensoin about sorting"
   ]
  },
  {
   "cell_type": "markdown",
   "metadata": {},
   "source": [
    "### 1.2.1 Bubble sort\n",
    "* the idea is going thorugh the list one time by one time. \n",
    "  1. compare all adjcent elements start from index 0, compare A[0] A[1] then A[1] A[2] and so on. for each comparion, swap them \n",
    "  if the forner one is bigger than the latter one. \n",
    "  2. releat the step 1 n times. n passes. each pass contains n-i-1 times comparison. \n",
    "  \n",
    "* **The time complexty of BIG O could be worst to O(n^2) since all n values will be compared n times then we do n^2 operation \n",
    "  to finish the sort the list task-. The most interested time complexity notaion is the Average time complexity and worst case complexity.**\n",
    "  \n",
    "* space complexity is O(1) since we did not create any new space in our memeory "
   ]
  },
  {
   "cell_type": "code",
   "execution_count": null,
   "metadata": {},
   "outputs": [],
   "source": [
    "numbers = [99, 44, 6, 2, 1, 5, 63, 87, 283, 4, 0];\n"
   ]
  },
  {
   "cell_type": "code",
   "execution_count": 4,
   "metadata": {},
   "outputs": [],
   "source": [
    "def bubbleSort3(array):\n",
    "    # i is the ith pass\n",
    "    for i in range(len(array)):\n",
    "        # for each pass it performs n-i-1 times comparision why? becuse the final result will have size n. but for each pass\n",
    "        # it will finalize the element at (n-i-1)th. t.e.x for pass 0: we define the index 10's element 283; pass 1, define\n",
    "        # index (11-1-1)=9 's element is 99. \n",
    "        for j in range(0,len(array)-i-1):   \n",
    "            if array[j] > array[j+1]:\n",
    "                temp= array[j]\n",
    "                array[j] = array[j+1]\n",
    "                array[j+1]= temp\n",
    "            print(array)\n",
    "        print('pass:',i, 'after pass:',array)"
   ]
  },
  {
   "cell_type": "code",
   "execution_count": 5,
   "metadata": {},
   "outputs": [
    {
     "name": "stdout",
     "output_type": "stream",
     "text": [
      "[1, 5, 2, 4, 8]\n",
      "[1, 2, 5, 4, 8]\n",
      "[1, 2, 4, 5, 8]\n",
      "[1, 2, 4, 5, 8]\n",
      "pass: 0 after pass: [1, 2, 4, 5, 8]\n",
      "[1, 2, 4, 5, 8]\n",
      "[1, 2, 4, 5, 8]\n",
      "[1, 2, 4, 5, 8]\n",
      "pass: 1 after pass: [1, 2, 4, 5, 8]\n",
      "[1, 2, 4, 5, 8]\n",
      "[1, 2, 4, 5, 8]\n",
      "pass: 2 after pass: [1, 2, 4, 5, 8]\n",
      "[1, 2, 4, 5, 8]\n",
      "pass: 3 after pass: [1, 2, 4, 5, 8]\n",
      "pass: 4 after pass: [1, 2, 4, 5, 8]\n"
     ]
    }
   ],
   "source": [
    "nn= [5,1,2,4,8];\n",
    "\n",
    "bubbleSort3(nn)"
   ]
  },
  {
   "cell_type": "markdown",
   "metadata": {},
   "source": [
    "### 1.2.2 Selection Sort\n",
    "\n",
    "* Selection sort: for the given list, algorithms starts by scanning the smallest item through the list and swap it with the \n",
    "  first item of the list. what does this mean? it mean sanning starts to compare the first item with its next if it is smaller than the next one then smallest reference or pointer stays at the first item. compare the samllest one with next next, if the next next is bigger then the current smallest pointer value, then remove the pointer to the next next one. and continue. until it is done and put the value where the smallest reference pointed to replace the first location of the list. then samllest referene moves to the second item of current list, scan it agian. find the samllest item to put it in the second location of the list. repeat until all items have been scanned through the list. \n",
    "  \n",
    "* TIME complexity O(n^2)  and space complexity O(1)\n",
    "\n"
   ]
  },
  {
   "cell_type": "markdown",
   "metadata": {},
   "source": [
    "### Exercise Selection Sort "
   ]
  },
  {
   "cell_type": "markdown",
   "metadata": {},
   "source": [
    "### **when we use pointer!!! we usually take it index!!**"
   ]
  },
  {
   "cell_type": "code",
   "execution_count": 137,
   "metadata": {},
   "outputs": [
    {
     "data": {
      "text/plain": [
       "[0, 44, 6, 2, 1, 5, 63, 87, 283, 4, 0]"
      ]
     },
     "execution_count": 137,
     "metadata": {},
     "output_type": "execute_result"
    }
   ],
   "source": [
    "### WRong case using the reference pointer!!!\n",
    "def selectionSort(array):\n",
    "    #for i in range(len(array)):\n",
    "    # just on round for undestanding the error did here \n",
    "    i=0\n",
    "    smallest = array[i]\n",
    "    for j in range(i, len(array)-1):\n",
    "        if smallest > array[j+1]:\n",
    "            smallest = array[j+1]\n",
    "\n",
    "    # swap here notice: smalest is the pointer so it is index. it cannot be the value of item. then you just change the\n",
    "    # refenrece value instead of the array index value \n",
    "    temp= array[i]\n",
    "    array[i]=smallest\n",
    "    smallest = temp\n",
    "    # on round ends, swap \n",
    "    \n",
    "numbers = [99, 44, 6, 2, 1, 5, 63, 87, 283, 4, 0];           \n",
    "            \n",
    "selectionSort(numbers); ### 99 is replaced by 0,but the last item 0 is still there. then it will lead always get 0 as \n",
    "#smallest then replace all items with 0. this is because we did not really access the array location of 0 located. we use \n",
    "# refernce smallest. but by give temp to smallest, we just change the value of this reference. we did not really change \n",
    "# the array memory of 0 located. so we need to use pointer!!!\n",
    "\n",
    "numbers"
   ]
  },
  {
   "cell_type": "code",
   "execution_count": 10,
   "metadata": {},
   "outputs": [],
   "source": [
    "def selectionSort(array):\n",
    "    for i in range(len(array)):\n",
    "        smallest = i\n",
    "        # comparison times depends on i. since if i is increasing then the elements before i index are sorted part so \n",
    "        # we do not need to compare them here is the same principle as the bubble sort using n-i-1 in j loop\n",
    "        for j in range(i+1, len(array)):\n",
    "            if array[smallest] > array[j]:\n",
    "                smallest = j\n",
    "\n",
    "        # swap here notice: smalest is the pointer so it is index. it cannot be the value of item. then you just change the\n",
    "        # refenrece value instead of the array index value \n",
    "        temp= array[i]\n",
    "        array[i]=array[smallest]\n",
    "        array[smallest] = temp\n",
    "    # on round ends, swap \n",
    "    \n",
    "\n"
   ]
  },
  {
   "cell_type": "code",
   "execution_count": 7,
   "metadata": {},
   "outputs": [],
   "source": [
    "numbers = [99, 44, 6, 2, 1, 5, 63, 87, 283, 4, 0];           \n",
    "            "
   ]
  },
  {
   "cell_type": "code",
   "execution_count": 8,
   "metadata": {},
   "outputs": [],
   "source": [
    "selectionSort(numbers);\n"
   ]
  },
  {
   "cell_type": "code",
   "execution_count": 9,
   "metadata": {},
   "outputs": [
    {
     "data": {
      "text/plain": [
       "[0, 1, 2, 4, 5, 6, 44, 63, 87, 99, 283]"
      ]
     },
     "execution_count": 9,
     "metadata": {},
     "output_type": "execute_result"
    }
   ],
   "source": [
    "numbers"
   ]
  },
  {
   "cell_type": "markdown",
   "metadata": {},
   "source": [
    "### 1.2.3 Insert Sort\n",
    "\n",
    "* HOw does it work?: for a given list, starting with the first two and do comparision. The bigger one moves one step forward\n",
    "  this means if the first one is bigger then it switches the place with the second one while if it is smaller then these two\n",
    "  just keep to stay where it was. then next take the third one to compare it with the second one, if it is bigger, stay \n",
    "  otherwise switch with the second and then also compare with The first one. Bigger stay otherwise switch and so on...\n",
    "\n"
   ]
  },
  {
   "cell_type": "code",
   "execution_count": 1,
   "metadata": {},
   "outputs": [],
   "source": [
    "### Exercise Insert Sort:\n",
    "# [99,44,6,2,1,5,63,87,283,4,0]\n",
    "#[44,99,6] [44,6,99] 6 44 99\n",
    "def insertSort(array):\n",
    "    if len(array)==1:\n",
    "        return array\n",
    "    \n",
    "    for i in range(0,len(array)-1): #i 0 1,2 \n",
    "           \n",
    "            j= i+1 # 1 2 \n",
    "            print(j)\n",
    "            \n",
    "            while array[j]<array[j-1]: # 1, 0 ; 2, 1; 1, 0 \n",
    "                \n",
    "                # switch i and i+1\n",
    "                temp=array[j-1]\n",
    "                array[j-1]= array[j]\n",
    "                array[j]=temp\n",
    "                j-=1 # 0  1, 0 \n",
    "                if j<=0:\n",
    "                    break\n",
    "                    \n",
    "# k+1 > k\n",
    "#switch \n",
    "# k >k-1 \n",
    "#awitch k-1 k-2 \n",
    "        \n",
    "        \n",
    "    "
   ]
  },
  {
   "cell_type": "markdown",
   "metadata": {},
   "source": [
    "#### replace the while loop abve with for loop"
   ]
  },
  {
   "cell_type": "code",
   "execution_count": 14,
   "metadata": {},
   "outputs": [],
   "source": [
    "def insertSort2(array):\n",
    "    if len(array)==1:\n",
    "        return array\n",
    "    \n",
    "    for i in range(0,len(array)-1): #i 0 1,2 \n",
    "        \n",
    "           # insert loop start from the i+1, when i=0, we pick a[1] and compare a[1] with a[0]\n",
    "        # 99 < 44, switch, then a[0] is 44 a[1] is 99, then next i++ to be 1, j: 2, 1. compare a[2] and a[1], 6< 99 switch\n",
    "        # j goes to 1 compare 6 44 6< 44 switch. j loop ends,array now is [6,44,99,55 ...] go to i loop again, i= 2, j=3,2,1 \n",
    "        # compare 55 <99 switch [6,44,55,99] j goes to 2, compare a[2]=55, a[1]=44. 55>44 break while loop othwise you will \n",
    "        # do some extral work compare a[1] a[0] 6 and 44. but it is \n",
    "        \n",
    "            for j in range(i+1,0,-1): # \n",
    "                \n",
    "                if array[j]< array[j-1]:\n",
    "                    # switch i and i+1\n",
    "                    temp=array[j-1]\n",
    "                    array[j-1]= array[j]\n",
    "                    array[j]=temp\n",
    "\n",
    "                #print(array[j], array[j-1])\n",
    "                #else:\n",
    "                    # indicate where we will break the iner j loop \n",
    "                   # print(array[j], array[j-1])\n",
    "                   # break\n",
    "            \n",
    "         \n",
    "                    "
   ]
  },
  {
   "cell_type": "code",
   "execution_count": 21,
   "metadata": {},
   "outputs": [],
   "source": [
    "numbers = [99, 44, 6, 2, 1, 5, 63, 87, 283, 0];         "
   ]
  },
  {
   "cell_type": "code",
   "execution_count": 5,
   "metadata": {},
   "outputs": [
    {
     "data": {
      "text/plain": [
       "0"
      ]
     },
     "execution_count": 5,
     "metadata": {},
     "output_type": "execute_result"
    }
   ],
   "source": [
    "['a','a','c'].count('b')"
   ]
  },
  {
   "cell_type": "code",
   "execution_count": 23,
   "metadata": {},
   "outputs": [],
   "source": [
    "insertSort2(numbers)"
   ]
  },
  {
   "cell_type": "code",
   "execution_count": 17,
   "metadata": {},
   "outputs": [],
   "source": [
    "numbers = [99, 44, 6, 2, 1, 5, 63, 87, 283, 4, 0];         "
   ]
  },
  {
   "cell_type": "code",
   "execution_count": 18,
   "metadata": {},
   "outputs": [
    {
     "ename": "NameError",
     "evalue": "name 'insertSort' is not defined",
     "output_type": "error",
     "traceback": [
      "\u001b[1;31m---------------------------------------------------------------------------\u001b[0m",
      "\u001b[1;31mNameError\u001b[0m                                 Traceback (most recent call last)",
      "\u001b[1;32m<ipython-input-18-c037fb41a1d4>\u001b[0m in \u001b[0;36m<module>\u001b[1;34m\u001b[0m\n\u001b[1;32m----> 1\u001b[1;33m \u001b[0minsertSort\u001b[0m\u001b[1;33m(\u001b[0m\u001b[0mnumbers\u001b[0m\u001b[1;33m)\u001b[0m\u001b[1;33m\u001b[0m\u001b[1;33m\u001b[0m\u001b[0m\n\u001b[0m",
      "\u001b[1;31mNameError\u001b[0m: name 'insertSort' is not defined"
     ]
    }
   ],
   "source": [
    "insertSort(numbers)"
   ]
  },
  {
   "cell_type": "code",
   "execution_count": 24,
   "metadata": {},
   "outputs": [
    {
     "data": {
      "text/plain": [
       "[0, 1, 2, 5, 6, 44, 63, 87, 99, 283]"
      ]
     },
     "execution_count": 24,
     "metadata": {},
     "output_type": "execute_result"
    }
   ],
   "source": [
    "numbers"
   ]
  },
  {
   "cell_type": "markdown",
   "metadata": {},
   "source": [
    "#### Time complexity\n",
    "**we could see with insert sorting. it works really good when the given list is sorted already. then it will skip the second\n",
    "loop. the best case is it only goes through the first for loop in case of the list is all sorted. with BIG O O(n).**\n",
    "\n",
    "**when the give array is very short. insert sort is also fast**\n"
   ]
  },
  {
   "cell_type": "markdown",
   "metadata": {},
   "source": [
    "### 1.2.4 Merged sort and O(nlog n) \n",
    "\n",
    "* In this algorithm we use the **Divider and Conquer** which we have learned when we learned trees. \n",
    "* Devide the problem or task down to work on each subtask until we find the target with recursion combined. But this needs to \n",
    "  get through coding\n",
    "  \n",
    "* Merge and qucik sort will save the time complexity to be O(nlogn) it has no nested loop. and it will help company save lots \n",
    "  of time and money.\n",
    "  \n",
    "  \n",
    "\n"
   ]
  },
  {
   "cell_type": "markdown",
   "metadata": {},
   "source": [
    "* working princeple of Merged sort: **\n",
    "    https://www.youtube.com/watch?v=XaqR3G_NVoo"
   ]
  },
  {
   "cell_type": "code",
   "execution_count": 20,
   "metadata": {},
   "outputs": [],
   "source": [
    "numbers = [99, 44, 6, 2, 1,5]\n",
    "#result: ['0', '1', '2', '283', '4', '44', '5', '6', '63', '87', '99']"
   ]
  },
  {
   "cell_type": "code",
   "execution_count": 12,
   "metadata": {},
   "outputs": [],
   "source": [
    "numbers=['99', '44', '6', '2', '1','5', '63', '87', '283', '4', '0']"
   ]
  },
  {
   "cell_type": "code",
   "execution_count": 2,
   "metadata": {},
   "outputs": [
    {
     "data": {
      "text/plain": [
       "3"
      ]
     },
     "execution_count": 2,
     "metadata": {},
     "output_type": "execute_result"
    }
   ],
   "source": [
    "6//2"
   ]
  },
  {
   "cell_type": "code",
   "execution_count": 29,
   "metadata": {},
   "outputs": [],
   "source": [
    "number=[99,44,6,2,1,5]"
   ]
  },
  {
   "cell_type": "code",
   "execution_count": 33,
   "metadata": {},
   "outputs": [
    {
     "name": "stdout",
     "output_type": "stream",
     "text": [
      "arry: [99, 44, 6, 2, 1, 5]\n",
      "left: [99, 44, 6]\n",
      "right: [2, 1, 5]\n",
      "arry: [99, 44, 6]\n",
      "left: [99]\n",
      "right: [44, 6]\n",
      "arry: [44, 6]\n",
      "left: [44]\n",
      "right: [6]\n",
      "left and right hhh [44] [6]\n",
      "left and right [44] [6] 0 1\n",
      "result zzz: [6, 44]\n",
      "left and right hhh [99] [6, 44]\n",
      "left and right [99] [6, 44] 0 2\n",
      "result zzz: [6, 44, 99]\n",
      "arry: [2, 1, 5]\n",
      "left: [2]\n",
      "right: [1, 5]\n",
      "arry: [1, 5]\n",
      "left: [1]\n",
      "right: [5]\n",
      "left and right hhh [1] [5]\n",
      "left and right [1] [5] 1 0\n",
      "result zzz: [1, 5]\n",
      "left and right hhh [2] [1, 5]\n",
      "left and right [2] [1, 5] 1 1\n",
      "result zzz: [1, 2, 5]\n",
      "left and right hhh [6, 44, 99] [1, 2, 5]\n",
      "left and right [6, 44, 99] [1, 2, 5] 0 3\n",
      "result zzz: [1, 2, 5, 6, 44, 99]\n"
     ]
    }
   ],
   "source": [
    "#### \n",
    "# merge() has two paramter left anf right they are list. would be simplest as a scalar [8]. \n",
    "# so we do comparison in merge and return our new sorted subpart or sub array. \n",
    "# mergeSplit is used to split our array until a single scalar. \n",
    "# so it will down to merge([x],[y]) then return [x,y] then bubble up \n",
    "\n",
    "# mergeSort is return what merge() returns. well merge() will return a sorted list. \n",
    "def mergeSort (array):\n",
    "    \n",
    "    if (len(array) == 1):\n",
    "        return array\n",
    "\n",
    "  # Split Array in into right and left\n",
    "    print('arry:',array)\n",
    "    mid = len(array)//2 # mid point\n",
    "    left= array[0:mid]\n",
    "    right=array[mid:]\n",
    "    print('left:',left)\n",
    "    print('right:',right)\n",
    "\n",
    "    return merge(mergeSort(left), mergeSort(right))\n",
    "\n",
    "def merge(left, right):\n",
    "    \n",
    "    # do comparision\n",
    "    result = []\n",
    "    leftindex = 0\n",
    "    rightindex = 0 \n",
    "    print('left and right hhh',left,right)\n",
    "    \n",
    "    while leftindex < len(left) and rightindex < len(right):\n",
    "        \n",
    "        if left[leftindex] < right[rightindex]:\n",
    "            \n",
    "            result.append(left[leftindex])\n",
    "            leftindex += 1\n",
    "        else:\n",
    "            \n",
    "            result.append(right[rightindex])\n",
    "            rightindex += 1\n",
    "    print('left and right',left,right,leftindex,rightindex)\n",
    "    print( 'result zzz:', result + left[leftindex:] + right[rightindex:] )\n",
    "    return result + left[leftindex:] + right[rightindex:]\n",
    "\n",
    "answer = mergeSort(number)"
   ]
  },
  {
   "cell_type": "markdown",
   "metadata": {},
   "source": [
    "### My comprehesion above the merge-sort algotithm and the recursion algorithm it used. \n",
    "\n",
    "* Why it can use recursion to make the sort action taking big O(n log N) time complexity instead of like other sort algorithm we have learned above with O(n^2)? \n",
    "\n",
    "  We could use recursion here since the merge sort uses the divider and conquer which is the method transfering the problem into a tree. every time you are using a tree or converting something into a tree, consider recursion. \n",
    "  \n",
    "  <span style='color : red'> In this merge-sort case, we convert the sorting task into different small peices and apply the same action: devider and conquer. So inside the MergeSort(), it did split action at mid point for any input of array. MergerSort like any other func using recusrion algorithm it includes two parts: base case + recusion case. base case is the ends condition that what recursion is getting closer and closer. so each megersort() with given array, it will continue to excute the Mergersort() action block until it reaches the base condition and return something instead of func. Another case is the recursion base where it calls the MergeSort() itself. so it returns the calling of MergeSort() itself. It is called recursive. Returns to itself and continue to call or reaches the final base case condition and return value in a data structure that we need. here it returns array itself. just because the array length is one and the mid point is itself so it is no point to continue to split the array. so then we know. Merge() takes mergesort() as input. the mergersort() will not end to run until it has splitted its input array to be single item list. then Merge(array1, array2) will be the each subtask returns. each subtask will return a merge array of each merge and them bubble up to merge with another peice of array. merge is also repeating action but comparing and merging the Mergesort bubbled up returns which are left and right arries.\n",
    "    \n",
    "    \n",
    "* **Stable VS Unstable Algorithms\\\n",
    "In the previous video, I mentioned the idea of Stable Algorithm, and how Merge Sort is a stable sort. What does that mean? Have a read through this stack overflow answer which is excellent. Sometimes, stable is a desired property when sorting:**\n",
    "\n",
    "https://stackoverflow.com/questions/1517793/what-is-stability-in-sorting-algorithms-and-why-is-it-important"
   ]
  },
  {
   "cell_type": "markdown",
   "metadata": {},
   "source": [
    "### 1.2.4 Quick Sort\n",
    "\n",
    "* **Quick sort is just like a merge-sort which is a divider and conquer algorithm.** Big O(n logn)\n",
    "\n",
    "* **Principle: for a given array, pick a value as pivot randomly and then go through all of the rest values. compare with this pivot value, put them in the right of the pivot if they are bigger than the pivot value otherwise put them in the left of the pivot. after you have go through all of them. split the array at the pivot point. since we still need to sort the values on the left and the right side of the pivot. BUT since we use the pivot to divide them in two parts. it reduces some work. then repeat the pivot picking and locate values again. Split and relocate the values based on the pivot.until you get the array with length two since you do not need to split 2 lengthy array. you just pick one of them as pivot and easily to sort.**\n",
    "\n",
    "* Qick sort has a better space comlexity versus Merge-sort. But it needs to make sure picking the proper pivot point.\n",
    "\n",
    "* Dancing to understand Quick sort: https://www.youtube.com/watch?v=ywWBy6J5gz8\n",
    "\n",
    "* Quick sort has different way of inpmentation here I just code it as the way of the dancing shows. but the key point is the same: picking the pivot and compare one round and split at pivot index two three parts. left, pivot, rright. then continue to do the same with left and sort. merge then after sorted. \n",
    "\n"
   ]
  },
  {
   "cell_type": "markdown",
   "metadata": {},
   "source": [
    "#### Solution one from the given one from tutor "
   ]
  },
  {
   "cell_type": "code",
   "execution_count": 8,
   "metadata": {},
   "outputs": [
    {
     "name": "stdout",
     "output_type": "stream",
     "text": [
      "partitionindex: 0 pivot: 9\n",
      "i: par: array[i]: 0 0 3\n",
      "before swap-. [3, 0, 1, 8, 7, 2, 5, 4, 9, 6]\n",
      "after swap: [3, 0, 1, 8, 7, 2, 5, 4, 9, 6] partition index: 1 pivot: 9\n",
      "i: par: array[i]: 1 1 0\n",
      "before swap-. [3, 0, 1, 8, 7, 2, 5, 4, 9, 6]\n",
      "after swap: [3, 0, 1, 8, 7, 2, 5, 4, 9, 6] partition index: 2 pivot: 9\n",
      "i: par: array[i]: 2 2 1\n",
      "before swap-. [3, 0, 1, 8, 7, 2, 5, 4, 9, 6]\n",
      "after swap: [3, 0, 1, 8, 7, 2, 5, 4, 9, 6] partition index: 3 pivot: 9\n",
      "i: par: array[i]: 3 3 8\n",
      "i: par: array[i]: 4 3 7\n",
      "i: par: array[i]: 5 3 2\n",
      "before swap-. [3, 0, 1, 8, 7, 2, 5, 4, 9, 6]\n",
      "after swap: [3, 0, 1, 2, 7, 8, 5, 4, 9, 6] partition index: 4 pivot: 9\n",
      "i: par: array[i]: 6 4 5\n",
      "before swap-. [3, 0, 1, 2, 7, 8, 5, 4, 9, 6]\n",
      "after swap: [3, 0, 1, 2, 5, 8, 7, 4, 9, 6] partition index: 5 pivot: 9\n",
      "i: par: array[i]: 7 5 4\n",
      "before swap-. [3, 0, 1, 2, 5, 8, 7, 4, 9, 6]\n",
      "after swap: [3, 0, 1, 2, 5, 4, 7, 8, 9, 6] partition index: 6 pivot: 9\n",
      "i: par: array[i]: 8 6 9\n",
      "partitionindex: 6 pivot: 9\n",
      "after swap [3, 0, 1, 2, 5, 4, 6, 8, 9, 7]\n",
      "partitionindex: 6 pivot: 9\n",
      "after first round: partitionindex: 6 pivot: 9\n",
      "partitionindex: 0 pivot: 5\n",
      "i: par: array[i]: 0 0 3\n",
      "before swap-. [3, 0, 1, 2, 5, 4, 6, 8, 9, 7]\n",
      "after swap: [3, 0, 1, 2, 5, 4, 6, 8, 9, 7] partition index: 1 pivot: 5\n",
      "i: par: array[i]: 1 1 0\n",
      "before swap-. [3, 0, 1, 2, 5, 4, 6, 8, 9, 7]\n",
      "after swap: [3, 0, 1, 2, 5, 4, 6, 8, 9, 7] partition index: 2 pivot: 5\n",
      "i: par: array[i]: 2 2 1\n",
      "before swap-. [3, 0, 1, 2, 5, 4, 6, 8, 9, 7]\n",
      "after swap: [3, 0, 1, 2, 5, 4, 6, 8, 9, 7] partition index: 3 pivot: 5\n",
      "i: par: array[i]: 3 3 2\n",
      "before swap-. [3, 0, 1, 2, 5, 4, 6, 8, 9, 7]\n",
      "after swap: [3, 0, 1, 2, 5, 4, 6, 8, 9, 7] partition index: 4 pivot: 5\n",
      "i: par: array[i]: 4 4 5\n",
      "partitionindex: 4 pivot: 5\n",
      "after swap [3, 0, 1, 2, 4, 5, 6, 8, 9, 7]\n",
      "partitionindex: 4 pivot: 5\n",
      "after first round: partitionindex: 4 pivot: 5\n",
      "partitionindex: 0 pivot: 3\n",
      "i: par: array[i]: 0 0 3\n",
      "i: par: array[i]: 1 0 0\n",
      "before swap-. [3, 0, 1, 2, 4, 5, 6, 8, 9, 7]\n",
      "after swap: [0, 3, 1, 2, 4, 5, 6, 8, 9, 7] partition index: 1 pivot: 3\n",
      "i: par: array[i]: 2 1 1\n",
      "before swap-. [0, 3, 1, 2, 4, 5, 6, 8, 9, 7]\n",
      "after swap: [0, 1, 3, 2, 4, 5, 6, 8, 9, 7] partition index: 2 pivot: 3\n",
      "partitionindex: 2 pivot: 3\n",
      "after swap [0, 1, 2, 3, 4, 5, 6, 8, 9, 7]\n",
      "partitionindex: 2 pivot: 3\n",
      "after first round: partitionindex: 2 pivot: 3\n",
      "partitionindex: 0 pivot: 1\n",
      "i: par: array[i]: 0 0 0\n",
      "before swap-. [0, 1, 2, 3, 4, 5, 6, 8, 9, 7]\n",
      "after swap: [0, 1, 2, 3, 4, 5, 6, 8, 9, 7] partition index: 1 pivot: 1\n",
      "partitionindex: 1 pivot: 1\n",
      "after swap [0, 1, 2, 3, 4, 5, 6, 8, 9, 7]\n",
      "partitionindex: 1 pivot: 1\n",
      "after first round: partitionindex: 1 pivot: 1\n",
      "partitionindex: 7 pivot: 9\n",
      "i: par: array[i]: 7 7 8\n",
      "i: par: array[i]: 8 7 9\n",
      "partitionindex: 7 pivot: 9\n",
      "after swap [0, 1, 2, 3, 4, 5, 6, 7, 9, 8]\n",
      "partitionindex: 7 pivot: 9\n",
      "after first round: partitionindex: 7 pivot: 9\n",
      "partitionindex: 8 pivot: 9\n",
      "i: par: array[i]: 8 8 9\n",
      "partitionindex: 8 pivot: 9\n",
      "after swap [0, 1, 2, 3, 4, 5, 6, 7, 8, 9]\n",
      "partitionindex: 8 pivot: 9\n",
      "after first round: partitionindex: 8 pivot: 9\n",
      "[0, 1, 2, 3, 4, 5, 6, 7, 8, 9]\n"
     ]
    }
   ],
   "source": [
    "def quicksort(array,left,right):\n",
    "    ln = len(array)\n",
    "    if left < right:\n",
    "        pivot = right\n",
    "        partitionindex = partition(array, pivot, left, right)\n",
    "        print('after first round: partitionindex:',partitionindex, 'pivot:',pivot)\n",
    "\n",
    "        quicksort(array, left, partitionindex -1)\n",
    "        quicksort(array, partitionindex +1, right)\n",
    "    return array\n",
    "\n",
    "def partition(array, pivot, left, right):\n",
    "    pivotvalue = array[pivot]\n",
    "    partitionindex = left\n",
    "    \n",
    "    print('partitionindex:',partitionindex, 'pivot:',pivot)\n",
    "\n",
    "    for i in range(left,right):\n",
    "        print('i: par: array[i]:', i, partitionindex,array[i])\n",
    "        if array[i] < pivotvalue:\n",
    "            print('before swap-.', array)\n",
    "            swap(array, i, partitionindex)\n",
    "            partitionindex += 1\n",
    "            print('after swap:', array, 'partition index:', partitionindex, 'pivot:', pivot)\n",
    "    print('partitionindex:',partitionindex, 'pivot:',pivot)\n",
    "    swap(array, right, partitionindex)\n",
    "    print('after swap', array)\n",
    "    print('partitionindex:',partitionindex, 'pivot:',pivot)\n",
    "    return partitionindex\n",
    "\n",
    "def swap(array, firstindex, secondindex):\n",
    "    temp = array[firstindex]\n",
    "    array[firstindex] = array[secondindex]\n",
    "    array[secondindex] = temp\n",
    "\n",
    "\n",
    "numbers = [3,0,1,8,7,2,5,4,9,6]\n",
    "\n",
    "\n",
    "# Select first and last index as 2nd and 3rd parameters\n",
    "print(quicksort(numbers,0,len(numbers)-1))"
   ]
  },
  {
   "cell_type": "code",
   "execution_count": 14,
   "metadata": {},
   "outputs": [
    {
     "name": "stdout",
     "output_type": "stream",
     "text": [
      "after first round: partitionindex: 9 pivot: 9\n",
      "after first round: partitionindex: 8 pivot: 8\n",
      "after first round: partitionindex: 7 pivot: 7\n",
      "after first round: partitionindex: 6 pivot: 6\n",
      "after first round: partitionindex: 5 pivot: 5\n",
      "after first round: partitionindex: 4 pivot: 4\n",
      "after first round: partitionindex: 3 pivot: 3\n",
      "after first round: partitionindex: 2 pivot: 2\n",
      "after first round: partitionindex: 1 pivot: 1\n",
      "[3, 0, 1, 8, 7, 2, 5, 4, 9, 6]\n"
     ]
    }
   ],
   "source": [
    "def quicksort(array,left,right):\n",
    "    ln = len(array)\n",
    "    if left < right:\n",
    "        pivot = right\n",
    "        partitionindex = partition(array, pivot, left, right)\n",
    "        print('after first round: partitionindex:',partitionindex, 'pivot:',pivot)\n",
    "\n",
    "        quicksort(array, left, partitionindex -1)\n",
    "        quicksort(array, partitionindex +1, right)\n",
    "    return array\n",
    "\n",
    "def partition(nums,left,right,pivot_index):\n",
    "    \n",
    "    # for random pivot index\n",
    "    pivot_value=nums[pivot_index]\n",
    "\n",
    "    #nums[pivot_index], nums[right] = nums[right], nums[pivot_index]\n",
    "\n",
    "    partionindex=left\n",
    "\n",
    "    while pivot_index!=partionindex or partionindex< right:\n",
    "        \n",
    "        if nums[partionindex]>pivot_value:\n",
    "            if partionindex<pivot_index:\n",
    "                #nums[pivot_index],nums[partionindex]= nums[partionindex],nums[pivot_index]\n",
    "                #pivot_index,partionindex=partionindex,pivot_index\n",
    "                swap(array,pivot_index,partionindex)\n",
    "                pivot_index,partionindex=partionindex,pivot_index\n",
    "            partionindex=partionindex-1\n",
    "        elif nums[partionindex]<pivot_value:\n",
    "            if partionindex > pivot_index:\n",
    "                #nums[pivot_index],nums[partionindex]= nums[partionindex],nums[pivot_index]\n",
    "                #pivot_index,partionindex=partionindex,pivot_index \n",
    "                swap(array,pivot_index,partionindex)\n",
    "                pivot_index,partionindex=partionindex,pivot_index\n",
    "            partionindex=partionindex+1\n",
    "\n",
    "    return partionindex\n",
    "\n",
    "def swap(array, firstindex, secondindex):\n",
    "    temp = array[firstindex]\n",
    "    array[firstindex] = array[secondindex]\n",
    "    array[secondindex] = temp\n",
    "\n",
    "\n",
    "numbers = [3,0,1,8,7,2,5,4,9,6]\n",
    "\n",
    "\n",
    "# Select first and last index as 2nd and 3rd parameters\n",
    "print(quicksort(numbers,0,len(numbers)-1))"
   ]
  },
  {
   "cell_type": "code",
   "execution_count": null,
   "metadata": {},
   "outputs": [],
   "source": [
    "### Solution2. My own sulotuin of Quick Sort achieving the dacing presentation way of quick sort"
   ]
  },
  {
   "cell_type": "code",
   "execution_count": 28,
   "metadata": {},
   "outputs": [],
   "source": [
    "def quickSort(array, left, right):\n",
    "    # [3,0,1,8,7,2,5,4,9,6]\n",
    "    #[2, 0, 1, 3, 7, 8, 5, 4, 9, 6],0,2\n",
    "    \n",
    "    # edge condition not base \n",
    "    '''\n",
    "    if len(array)==1:\n",
    "        print('quick sort applied to single item list so no swap and no changes')\n",
    "        return array\n",
    "    '''\n",
    "    \n",
    "    # base here \n",
    "    if left>=right:\n",
    "        print('base here',array)\n",
    "        return array\n",
    "    \n",
    "    # recusive case?\n",
    "    if left < right: # what is left and right? first index of the first number and the last index of last number\n",
    "        pivot = left # pick pivot as the left index so it stars as index 0:3 \n",
    "        partitionindex = partition(array, pivot, left, right) # [3,0,1,8,7,2,5,4,9,6], pivot:0, left:0, right: length-1\n",
    "        print('partition3::',partitionindex, 'pivot:',pivot)\n",
    "        print('array:', array, 'left:',left)\n",
    "        quickSort(array, left, partitionindex -1) # so we do qick sort in two sides according to partionindex\n",
    "        # [2, 0, 1, 3, 7, 8, 5, 4, 9, 6] # pivot 2, left 0: 2  : 2 0 1\n",
    "        # quicksort only returns when the array length is 1\n",
    "        print('partition1::',partitionindex,'pivot:',pivot)\n",
    "        print('go on?')\n",
    "        print('partition2::',partitionindex,'pivot', pivot, 'left',left, right)\n",
    "        quickSort(array, partitionindex +1, right) # [0, 1, 2, 3, 7, 8, 5, 4, 9, 6], puvit:3=partionindex \n",
    "     \n",
    "    return array # can be commented\n",
    "    \n",
    "\n",
    "def partition(array,pivot, left, right):\n",
    "    \n",
    "    pivotvalue = array[pivot] \n",
    "    partitionindex = right # the last index \n",
    "    print('pivot:', pivot, 'partitiomnindex:', partitionindex)\n",
    "    \n",
    "    # finishing one while loop. It will group value into two parts: left side of pivot 3 they are smaller than 3 \n",
    "    # right side of pivot 3, they are bigger than 3. In addition, pivot == partionindex so it ends while otherwise it is \n",
    "    #still in loop\n",
    "    while pivot!=partitionindex: # compare all value from the index partitionindex(right) with pivot\n",
    "\n",
    "        if array[partitionindex] > pivotvalue:\n",
    "            # if the picked value is bigger than pivotvalue then check its location: right side of right side of pivotvalue \n",
    "            if partitionindex < pivot: # left side\n",
    "                swap(array, pivot, partitionindex)\n",
    "                pivot, partitionindex=swapindex(pivot, partitionindex) # the pivot index and partionindex also swapped\n",
    "                \n",
    "            # stay at the right side of pivot value but decrease the partionindex to continue do comparision with pivot\n",
    "            partitionindex-=1 \n",
    "\n",
    "        elif array[partitionindex] < pivotvalue: \n",
    "            \n",
    "            if partitionindex > pivot:\n",
    "                print('pivot:', pivot, 'partitiomnindex:', partitionindex)\n",
    "                swap(array, pivot, partitionindex)\n",
    "                pivot, partitionindex=swapindex(pivot, partitionindex)\n",
    "                print('pivot:', pivot, 'partitiomnindex:', partitionindex)\n",
    "\n",
    "            partitionindex+=1 \n",
    "            \n",
    "    print('pivot:', pivot, 'partitiomnindex:', partitionindex,'ends while loop',array)\n",
    "\n",
    "    #print(array)\n",
    "    # this function returns the final location or index of pivot after one round comparision or division \n",
    "    return partitionindex\n",
    "    \n",
    "\n",
    "def swap(array,firstitem, seconditem):\n",
    "    temp= array[firstitem]\n",
    "    array[firstitem]=array[seconditem]\n",
    "    array[seconditem]=temp\n",
    "\n",
    "def swapindex(s1,s2):\n",
    "    temp=s1\n",
    "    s1=s2\n",
    "    s2=temp\n",
    "    return s1,s2\n",
    "    "
   ]
  },
  {
   "cell_type": "code",
   "execution_count": 29,
   "metadata": {},
   "outputs": [
    {
     "name": "stdout",
     "output_type": "stream",
     "text": [
      "pivot: 0 partitiomnindex: 9\n",
      "pivot: 0 partitiomnindex: 5\n",
      "pivot: 5 partitiomnindex: 0\n",
      "pivot: 3 partitiomnindex: 3 ends while loop [2, 0, 1, 3, 7, 8, 5, 4, 9, 6]\n",
      "partition3:: 3 pivot: 0\n",
      "array: [2, 0, 1, 3, 7, 8, 5, 4, 9, 6] left: 0\n",
      "pivot: 0 partitiomnindex: 2\n",
      "pivot: 0 partitiomnindex: 2\n",
      "pivot: 2 partitiomnindex: 0\n",
      "pivot: 2 partitiomnindex: 2 ends while loop [1, 0, 2, 3, 7, 8, 5, 4, 9, 6]\n",
      "partition3:: 2 pivot: 0\n",
      "array: [1, 0, 2, 3, 7, 8, 5, 4, 9, 6] left: 0\n",
      "pivot: 0 partitiomnindex: 1\n",
      "pivot: 0 partitiomnindex: 1\n",
      "pivot: 1 partitiomnindex: 0\n",
      "pivot: 1 partitiomnindex: 1 ends while loop [0, 1, 2, 3, 7, 8, 5, 4, 9, 6]\n",
      "partition3:: 1 pivot: 0\n",
      "array: [0, 1, 2, 3, 7, 8, 5, 4, 9, 6] left: 0\n",
      "base here [0, 1, 2, 3, 7, 8, 5, 4, 9, 6]\n",
      "partition1:: 1 pivot: 0\n",
      "go on?\n",
      "partition2:: 1 pivot 0 left 0 1\n",
      "base here [0, 1, 2, 3, 7, 8, 5, 4, 9, 6]\n",
      "partition1:: 2 pivot: 0\n",
      "go on?\n",
      "partition2:: 2 pivot 0 left 0 2\n",
      "base here [0, 1, 2, 3, 7, 8, 5, 4, 9, 6]\n",
      "partition1:: 3 pivot: 0\n",
      "go on?\n",
      "partition2:: 3 pivot 0 left 0 9\n",
      "pivot: 4 partitiomnindex: 9\n",
      "pivot: 4 partitiomnindex: 9\n",
      "pivot: 9 partitiomnindex: 4\n",
      "pivot: 5 partitiomnindex: 7\n",
      "pivot: 7 partitiomnindex: 5\n",
      "pivot: 7 partitiomnindex: 7 ends while loop [0, 1, 2, 3, 6, 4, 5, 7, 9, 8]\n",
      "partition3:: 7 pivot: 4\n",
      "array: [0, 1, 2, 3, 6, 4, 5, 7, 9, 8] left: 4\n",
      "pivot: 4 partitiomnindex: 6\n",
      "pivot: 4 partitiomnindex: 6\n",
      "pivot: 6 partitiomnindex: 4\n",
      "pivot: 6 partitiomnindex: 6 ends while loop [0, 1, 2, 3, 5, 4, 6, 7, 9, 8]\n",
      "partition3:: 6 pivot: 4\n",
      "array: [0, 1, 2, 3, 5, 4, 6, 7, 9, 8] left: 4\n",
      "pivot: 4 partitiomnindex: 5\n",
      "pivot: 4 partitiomnindex: 5\n",
      "pivot: 5 partitiomnindex: 4\n",
      "pivot: 5 partitiomnindex: 5 ends while loop [0, 1, 2, 3, 4, 5, 6, 7, 9, 8]\n",
      "partition3:: 5 pivot: 4\n",
      "array: [0, 1, 2, 3, 4, 5, 6, 7, 9, 8] left: 4\n",
      "base here [0, 1, 2, 3, 4, 5, 6, 7, 9, 8]\n",
      "partition1:: 5 pivot: 4\n",
      "go on?\n",
      "partition2:: 5 pivot 4 left 4 5\n",
      "base here [0, 1, 2, 3, 4, 5, 6, 7, 9, 8]\n",
      "partition1:: 6 pivot: 4\n",
      "go on?\n",
      "partition2:: 6 pivot 4 left 4 6\n",
      "base here [0, 1, 2, 3, 4, 5, 6, 7, 9, 8]\n",
      "partition1:: 7 pivot: 4\n",
      "go on?\n",
      "partition2:: 7 pivot 4 left 4 9\n",
      "pivot: 8 partitiomnindex: 9\n",
      "pivot: 8 partitiomnindex: 9\n",
      "pivot: 9 partitiomnindex: 8\n",
      "pivot: 9 partitiomnindex: 9 ends while loop [0, 1, 2, 3, 4, 5, 6, 7, 8, 9]\n",
      "partition3:: 9 pivot: 8\n",
      "array: [0, 1, 2, 3, 4, 5, 6, 7, 8, 9] left: 8\n",
      "base here [0, 1, 2, 3, 4, 5, 6, 7, 8, 9]\n",
      "partition1:: 9 pivot: 8\n",
      "go on?\n",
      "partition2:: 9 pivot 8 left 8 9\n",
      "base here [0, 1, 2, 3, 4, 5, 6, 7, 8, 9]\n",
      "[0, 1, 2, 3, 4, 5, 6, 7, 8, 9]\n"
     ]
    }
   ],
   "source": [
    "numbers = [3,0,1,8,7,2,5,4,9,6]\n",
    "#numbers=[3,1,0]\n",
    "# Select first and last index as 2nd and 3rd parameters\n",
    "print(quickSort(numbers,0,len(numbers)-1))\n"
   ]
  },
  {
   "cell_type": "code",
   "execution_count": 81,
   "metadata": {},
   "outputs": [
    {
     "name": "stdout",
     "output_type": "stream",
     "text": [
      "pivot: 0 partitiomnindex: 10\n",
      "pivot: 10 partitiomnindex: 0\n",
      "pivot: 8 partitiomnindex: 9\n",
      "pivot: 9 partitiomnindex: 8\n",
      "[0, 44, 6, 2, 1, 5, 63, 87, 4, 99, 283]\n",
      "partition: 9\n",
      "array: [0, 44, 6, 2, 1, 5, 63, 87, 4, 99, 283]\n",
      "[0, 44, 6, 2, 1, 5, 63, 87, 4, 99, 283]\n",
      "partition: 0\n",
      "array: [0, 44, 6, 2, 1, 5, 63, 87, 4, 99, 283]\n",
      "pivot: 1 partitiomnindex: 8\n",
      "pivot: 8 partitiomnindex: 1\n",
      "[0, 4, 6, 2, 1, 5, 44, 87, 63, 99, 283]\n",
      "partition: 6\n",
      "array: [0, 4, 6, 2, 1, 5, 44, 87, 63, 99, 283]\n",
      "pivot: 1 partitiomnindex: 4\n",
      "pivot: 4 partitiomnindex: 1\n",
      "pivot: 2 partitiomnindex: 3\n",
      "pivot: 3 partitiomnindex: 2\n",
      "[0, 1, 2, 4, 6, 5, 44, 87, 63, 99, 283]\n",
      "partition: 3\n",
      "array: [0, 1, 2, 4, 6, 5, 44, 87, 63, 99, 283]\n",
      "[0, 1, 2, 4, 6, 5, 44, 87, 63, 99, 283]\n",
      "partition: 1\n",
      "array: [0, 1, 2, 4, 6, 5, 44, 87, 63, 99, 283]\n",
      "pivot: 4 partitiomnindex: 5\n",
      "pivot: 5 partitiomnindex: 4\n",
      "[0, 1, 2, 4, 5, 6, 44, 87, 63, 99, 283]\n",
      "partition: 5\n",
      "array: [0, 1, 2, 4, 5, 6, 44, 87, 63, 99, 283]\n",
      "pivot: 7 partitiomnindex: 8\n",
      "pivot: 8 partitiomnindex: 7\n",
      "[0, 1, 2, 4, 5, 6, 44, 63, 87, 99, 283]\n",
      "partition: 8\n",
      "array: [0, 1, 2, 4, 5, 6, 44, 63, 87, 99, 283]\n",
      "None\n"
     ]
    }
   ],
   "source": [
    "numbers = [99, 44, 6, 2, 1, 5, 63, 87, 283, 4, 0]\n",
    "\n",
    "# Select first and last index as 2nd and 3rd parameters\n",
    "print(quickSort(numbers,0,len(numbers)-1))"
   ]
  },
  {
   "cell_type": "code",
   "execution_count": 82,
   "metadata": {},
   "outputs": [
    {
     "data": {
      "text/plain": [
       "[0, 1, 2, 4, 5, 6, 44, 63, 87, 99, 283]"
      ]
     },
     "execution_count": 82,
     "metadata": {},
     "output_type": "execute_result"
    }
   ],
   "source": [
    "numbers"
   ]
  },
  {
   "cell_type": "code",
   "execution_count": 47,
   "metadata": {},
   "outputs": [
    {
     "name": "stdout",
     "output_type": "stream",
     "text": [
      "pivot: 0 partitiomnindex: 2\n",
      "pivot: 2 partitiomnindex: 0\n",
      "[1, 0, 3]\n"
     ]
    }
   ],
   "source": [
    "partitionindex=partition(numbers,0,0,2 )"
   ]
  },
  {
   "cell_type": "code",
   "execution_count": 48,
   "metadata": {},
   "outputs": [
    {
     "data": {
      "text/plain": [
       "1"
      ]
     },
     "execution_count": 48,
     "metadata": {},
     "output_type": "execute_result"
    }
   ],
   "source": [
    "partitionindex"
   ]
  },
  {
   "cell_type": "markdown",
   "metadata": {},
   "source": [
    "### Tricks Python for Swapping : when you swap the value without using pointer like swaping value with pointer in array.\n",
    "you must need to return the vaulue and store them in the targed variables you are going to swap. "
   ]
  },
  {
   "cell_type": "code",
   "execution_count": 59,
   "metadata": {},
   "outputs": [
    {
     "data": {
      "text/plain": [
       "(2, 1)"
      ]
     },
     "execution_count": 59,
     "metadata": {},
     "output_type": "execute_result"
    }
   ],
   "source": [
    "# t.e.x I want to swap the index pivot and partition index, just use s1, s2 instead for simplifying. \n",
    "s1= 1\n",
    "s2=2\n",
    "swapindex(s1,s2)"
   ]
  },
  {
   "cell_type": "code",
   "execution_count": 60,
   "metadata": {},
   "outputs": [
    {
     "data": {
      "text/plain": [
       "1"
      ]
     },
     "execution_count": 60,
     "metadata": {},
     "output_type": "execute_result"
    }
   ],
   "source": [
    "# but s1, s2 are kept unchanged \n",
    "s1 # supposed to be 2 now "
   ]
  },
  {
   "cell_type": "code",
   "execution_count": 61,
   "metadata": {},
   "outputs": [],
   "source": [
    "## assign the returns value to s1, s2\n",
    "s1=1\n",
    "s2=2\n",
    "s1,s2=swapindex(s1,s2)\n"
   ]
  },
  {
   "cell_type": "code",
   "execution_count": 62,
   "metadata": {},
   "outputs": [
    {
     "data": {
      "text/plain": [
       "2"
      ]
     },
     "execution_count": 62,
     "metadata": {},
     "output_type": "execute_result"
    }
   ],
   "source": [
    "s1 # changed as expected "
   ]
  },
  {
   "cell_type": "markdown",
   "metadata": {},
   "source": [
    "#### !reformat the quick sort in a standard recursion algotithm\n",
    "* base case + recusion case with two returns"
   ]
  },
  {
   "cell_type": "markdown",
   "metadata": {},
   "source": [
    "<span style='color: red'> we make swapping in the place so it did not create more saving memory like merge sort this is why it has smaller space complexity O(1) versus merge-sort. **so this is also it is a littile bit different from merge sort implenentation way. we still find split point which is called partitionindex not neccesarylt be mid point.but we did quick sort again on two parts left and right of partitionindex but still happen in place. array is changing with swapping**"
   ]
  },
  {
   "cell_type": "code",
   "execution_count": 31,
   "metadata": {},
   "outputs": [],
   "source": [
    "def quickSort(array, left, right):\n",
    "    \n",
    "    # base \n",
    "    if left >=right:\n",
    "        print('come here?')\n",
    "        return array \n",
    "    \n",
    "    # recusive case\n",
    "    pivot = left\n",
    "    partitionindex = partition(array, pivot, left, right) \n",
    "     \n",
    "    return  quick(array,left, right, partitionindex) # quick returns array finnaly \n",
    "   \n",
    "\n",
    "def quick(array,left, right, partitionindex):\n",
    "    \n",
    "    quickSort(array, left, partitionindex -1)\n",
    "\n",
    "    quickSort(array, partitionindex +1, right)\n",
    "        \n",
    "    return array\n",
    "\n",
    "def partition(array,pivot, left, right):\n",
    "    \n",
    "    pivotvalue = array[pivot]\n",
    "    partitionindex = right # the last index\n",
    "    print('pivot:', pivot, 'partitiomnindex:', partitionindex)\n",
    "    while pivot!=partitionindex:\n",
    "\n",
    "        if array[partitionindex] > pivotvalue:\n",
    "            if partitionindex < pivot:\n",
    "                swap(array, pivot, partitionindex)\n",
    "                pivot, partitionindex=swapindex(pivot, partitionindex)\n",
    "\n",
    "            partitionindex-=1\n",
    "\n",
    "        elif array[partitionindex] < pivotvalue: \n",
    "            if partitionindex > pivot:\n",
    "                print('pivot:', pivot, 'partitiomnindex:', partitionindex)\n",
    "                swap(array, pivot, partitionindex)\n",
    "                pivot, partitionindex=swapindex(pivot, partitionindex)\n",
    "                print('pivot:', pivot, 'partitiomnindex:', partitionindex)\n",
    "\n",
    "            partitionindex+=1 \n",
    "    print('pivot:', pivot, 'partitiomnindex:', partitionindex,'ends while loop',array)\n",
    "\n",
    "    return partitionindex\n",
    "    \n",
    "\n",
    "def swap(array,firstitem, seconditem):\n",
    "    temp= array[firstitem]\n",
    "    array[firstitem]=array[seconditem]\n",
    "    array[seconditem]=temp\n",
    "\n",
    "def swapindex(s1,s2):\n",
    "    temp=s1\n",
    "    s1=s2\n",
    "    s2=temp\n",
    "    return s1,s2\n",
    "    "
   ]
  },
  {
   "cell_type": "code",
   "execution_count": 33,
   "metadata": {},
   "outputs": [
    {
     "name": "stdout",
     "output_type": "stream",
     "text": [
      "pivot: 0 partitiomnindex: 9\n",
      "pivot: 0 partitiomnindex: 5\n",
      "pivot: 5 partitiomnindex: 0\n",
      "pivot: 3 partitiomnindex: 3 ends while loop [2, 0, 1, 3, 7, 8, 5, 4, 9, 6]\n",
      "pivot: 0 partitiomnindex: 2\n",
      "pivot: 0 partitiomnindex: 2\n",
      "pivot: 2 partitiomnindex: 0\n",
      "pivot: 2 partitiomnindex: 2 ends while loop [1, 0, 2, 3, 7, 8, 5, 4, 9, 6]\n",
      "pivot: 0 partitiomnindex: 1\n",
      "pivot: 0 partitiomnindex: 1\n",
      "pivot: 1 partitiomnindex: 0\n",
      "pivot: 1 partitiomnindex: 1 ends while loop [0, 1, 2, 3, 7, 8, 5, 4, 9, 6]\n",
      "come here?\n",
      "come here?\n",
      "come here?\n",
      "pivot: 4 partitiomnindex: 9\n",
      "pivot: 4 partitiomnindex: 9\n",
      "pivot: 9 partitiomnindex: 4\n",
      "pivot: 5 partitiomnindex: 7\n",
      "pivot: 7 partitiomnindex: 5\n",
      "pivot: 7 partitiomnindex: 7 ends while loop [0, 1, 2, 3, 6, 4, 5, 7, 9, 8]\n",
      "pivot: 4 partitiomnindex: 6\n",
      "pivot: 4 partitiomnindex: 6\n",
      "pivot: 6 partitiomnindex: 4\n",
      "pivot: 6 partitiomnindex: 6 ends while loop [0, 1, 2, 3, 5, 4, 6, 7, 9, 8]\n",
      "pivot: 4 partitiomnindex: 5\n",
      "pivot: 4 partitiomnindex: 5\n",
      "pivot: 5 partitiomnindex: 4\n",
      "pivot: 5 partitiomnindex: 5 ends while loop [0, 1, 2, 3, 4, 5, 6, 7, 9, 8]\n",
      "come here?\n",
      "come here?\n",
      "come here?\n",
      "pivot: 8 partitiomnindex: 9\n",
      "pivot: 8 partitiomnindex: 9\n",
      "pivot: 9 partitiomnindex: 8\n",
      "pivot: 9 partitiomnindex: 9 ends while loop [0, 1, 2, 3, 4, 5, 6, 7, 8, 9]\n",
      "come here?\n",
      "come here?\n",
      "[0, 1, 2, 3, 4, 5, 6, 7, 8, 9]\n"
     ]
    }
   ],
   "source": [
    "numbers = [3,0,1,8,7,2,5,4,9,6]\n",
    "\n",
    "#numbers=[3,0,1]\n",
    "# Select first and last index as 2nd and 3rd pa\n",
    "print(quickSort(numbers,0,len(numbers)-1))"
   ]
  },
  {
   "cell_type": "code",
   "execution_count": 34,
   "metadata": {},
   "outputs": [
    {
     "name": "stdout",
     "output_type": "stream",
     "text": [
      "pivot: 0 partitiomnindex: 10\n",
      "pivot: 0 partitiomnindex: 10\n",
      "pivot: 10 partitiomnindex: 0\n",
      "pivot: 8 partitiomnindex: 9\n",
      "pivot: 9 partitiomnindex: 8\n",
      "pivot: 9 partitiomnindex: 9 ends while loop [0, 44, 6, 2, 1, 5, 63, 87, 4, 99, 283]\n",
      "pivot: 0 partitiomnindex: 8\n",
      "pivot: 0 partitiomnindex: 0 ends while loop [0, 44, 6, 2, 1, 5, 63, 87, 4, 99, 283]\n",
      "come here?\n",
      "pivot: 1 partitiomnindex: 8\n",
      "pivot: 1 partitiomnindex: 8\n",
      "pivot: 8 partitiomnindex: 1\n",
      "pivot: 6 partitiomnindex: 6 ends while loop [0, 4, 6, 2, 1, 5, 44, 87, 63, 99, 283]\n",
      "pivot: 1 partitiomnindex: 5\n",
      "pivot: 1 partitiomnindex: 4\n",
      "pivot: 4 partitiomnindex: 1\n",
      "pivot: 2 partitiomnindex: 3\n",
      "pivot: 3 partitiomnindex: 2\n",
      "pivot: 3 partitiomnindex: 3 ends while loop [0, 1, 2, 4, 6, 5, 44, 87, 63, 99, 283]\n",
      "pivot: 1 partitiomnindex: 2\n",
      "pivot: 1 partitiomnindex: 1 ends while loop [0, 1, 2, 4, 6, 5, 44, 87, 63, 99, 283]\n",
      "come here?\n",
      "come here?\n",
      "pivot: 4 partitiomnindex: 5\n",
      "pivot: 4 partitiomnindex: 5\n",
      "pivot: 5 partitiomnindex: 4\n",
      "pivot: 5 partitiomnindex: 5 ends while loop [0, 1, 2, 4, 5, 6, 44, 87, 63, 99, 283]\n",
      "come here?\n",
      "come here?\n",
      "pivot: 7 partitiomnindex: 8\n",
      "pivot: 7 partitiomnindex: 8\n",
      "pivot: 8 partitiomnindex: 7\n",
      "pivot: 8 partitiomnindex: 8 ends while loop [0, 1, 2, 4, 5, 6, 44, 63, 87, 99, 283]\n",
      "come here?\n",
      "come here?\n",
      "come here?\n",
      "[0, 1, 2, 4, 5, 6, 44, 63, 87, 99, 283]\n"
     ]
    }
   ],
   "source": [
    "numbers = [99, 44, 6, 2, 1, 5, 63, 87, 283, 4, 0]\n",
    "\n",
    "# Select first and last index as 2nd and 3rd parameters\n",
    "print(quickSort(numbers,0,len(numbers)-1))"
   ]
  },
  {
   "cell_type": "markdown",
   "metadata": {},
   "source": [
    "### which sort is best?\n",
    " \n",
    "* **Insert sort: used for small data or it is really sorted. then insertion sort works really fast.** \n",
    "\n",
    "* **To be honest, bubble sort and selection sort are not that uself in practice. they are usually used for education or teaching purpose**\n",
    "\n",
    "* **Merge-sort: it is one of tutor's favorite. since it is really good because of divider and conquer. so we have time complexity O(n logn). it is fast but it takes space versus Quick sort. if you do not care the memmory or you are doing some external sorting, then Merge sort is optimum.**\n",
    "\n",
    "* **WHat about quick sort? it is fast average with lesser space complexity O(nlogn) but it has worst case in O(n^2) in case of you do not pick the pivot properly then it might work and sort really really slow**\n",
    "\n",
    "* **heap sort? it is similar working as merge-sort and quick sort but it has better time complexity and space complexity since it has no quadratic time complexity in worst case that quick sort has and does not have the expensiver space complexity that merge sort has. but it in practice, it is working slower than qucick sorts. it is one case with heap sort when you are really really concerned about worst case and space complexity.**\n",
    "\n",
    "\n",
    "\n",
    "* **heap sort for self studying: https://brilliant.org/wiki/heap-sort/\n",
    "\n"
   ]
  },
  {
   "cell_type": "markdown",
   "metadata": {},
   "source": [
    "### 1.2.5 Radix sort + count sort\n",
    "\n",
    "\n",
    "* ?**can we beat O(nlogn)? in sorting? --- Mathematically it is impossible to beat this time complexity. because O(nlogn) means we have to sort by comparision all every number to each other. **But there is one exceptional rule if you could improve this by not doing comparision: these are called No-comparision sorts algorithms**\n",
    "\n",
    "* Comparision sorts: bubble sorts, heap sorts, merge sorts, quick sorts.... can sort any type of data. \n",
    "\n",
    "* Non-comparison sorts: Counting sort, Radix Sort: **we are gonna use the way that numbers or data are stored in our computrers in zeros and ones and take advantage of that kind of things.**\n",
    "\n",
    "* Radix and counting sort are only working with numbers, specifically intergers in a restricted range(input data has range not the lenth of whole data list is limited). in this case, it can be faster than using merge sort or quick sort. but it is really restricted and limited in the usecase: numbers and the number value within range. \n",
    "\n",
    "\n",
    "* for interest: Radix Sort: https://brilliant.org/wiki/radix-sort/\n",
    "\n",
    "Radix Sort Animation: https://www.cs.usfca.edu/~galles/visualization/RadixSort.html\n",
    "\n",
    "\n",
    "\n",
    "Counting Sort: https://brilliant.org/wiki/counting-sort/\n",
    "\n",
    "Counting Sort Animation: https://www.cs.usfca.edu/~galles/visualization/CountingSort.html"
   ]
  },
  {
   "cell_type": "markdown",
   "metadata": {},
   "source": [
    "### exercise Sorting interview: what type of sorting algorithm you are gonna use based on the given factor?\n",
    "\n",
    "\n",
    "//#1 - Sort 10 schools around your house by distance:  **merge-sort**   \\ correct:  <span style='color:red'>**insertion sort. since it is really good for small data like 10 is fairly samll. fast and easy to code and space complexity as O(1)**\n",
    "\n",
    "//#2 - eBay sorts listings by the current Bid amount:  **Merge sort** \\ correct:  <span style='color:red'>**radix or counting sort since the bid amount are always in range like not that much bidding money. then radix can help us to improve time complexity**\n",
    "\n",
    "//#3 - Sport scores on ESPN:  **Merge-sort**  \\ correct:  <span style='color:red'> **quick sort if you are really concered about the sapce memory instead of the worst case with not proper pivot**\n",
    "\n",
    "//#4 - Massive database (can't fit all into memory) needs to sort through past year's user data  **quick sort** \\ correct:  <span style='color:red'>**merge sort, since based on the given message, it is not possible to sort on the current space and it is something like we are gonna do external sorting. then sapce is not the concern. we use merge sort**\n",
    "\n",
    "//#5 - Almost sorted Udemy review data needs to update and add 2 new reviews  **insertion sort** \\ correct:  <span style='color:red'> **insertion sort sicne previouse reviews have been sorted then in this case insertion sort works faster**\n",
    "\n",
    "//#6 - Temperature Records for the past 50 years in Canada: **merge-sort**\\ correct:  <span style='color:red'> **if the temperature has no decimal places then gonna use radix or counting sort for improving time complexity. but if it has decimal palces then in order to do the in memory sorting so it is better to go with quick sort**\n",
    "\n",
    "//#7 - Large user name database needs to be sorted. Data is very random. **quick sort**\\ correct:  <span style='color:red'>**quick sort/ merge -sort**\n",
    "\n",
    "//#8 - You want to teach sorting for the first time:  **bubble sort** \\ correct:  <span style='color:red'>**bubble sort or selection sort**"
   ]
  }
 ],
 "metadata": {
  "kernelspec": {
   "display_name": "Python 3",
   "language": "python",
   "name": "python3"
  },
  "language_info": {
   "codemirror_mode": {
    "name": "ipython",
    "version": 3
   },
   "file_extension": ".py",
   "mimetype": "text/x-python",
   "name": "python",
   "nbconvert_exporter": "python",
   "pygments_lexer": "ipython3",
   "version": "3.8.5"
  }
 },
 "nbformat": 4,
 "nbformat_minor": 4
}
