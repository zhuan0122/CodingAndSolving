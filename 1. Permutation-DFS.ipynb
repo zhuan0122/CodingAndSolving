{
 "cells": [
  {
   "cell_type": "code",
   "execution_count": null,
   "metadata": {},
   "outputs": [],
   "source": [
    "### Permutation -- DFS+ Backtracing Algorithm \n",
    "Given an array nums of distinct integers, return all the possible permutations. You can return the answer in any order.\n",
    "\n",
    "\n",
    "Example 1: \n",
    "\n",
    "Input: nums = [1,2,3] \\\n",
    "Output: [[1,2,3],[1,3,2],[2,1,3],[2,3,1],[3,1,2],[3,2,1]] \\\n",
    "Example 2:\n",
    "\n",
    "Input: nums = [0,1]\\\n",
    "Output: [[0,1],[1,0]]\n",
    "\n",
    "Example 3:\n",
    "\n",
    "Input: nums = [1]\\\n",
    "Output: [[1]] \n",
    " \n",
    "\n",
    "Constraints: \n",
    "\n",
    "1 <= nums.length <= 6\\\n",
    "-10 <= nums[i] <= 10\n",
    "\n",
    "* **start with exaplems to find the rules or the data structure to describe the solution. like usually we can derive an \n",
    "    general equation or map to a tree or graph structure. here we can convert the permuation question into a tree issue. The \n",
    "    process of get all possible solutions by exploring all potentional candidates. Backtracking Algorithms is used here. \n",
    "    since Backtracking help us to collect all permuation. then we need to trace back and If the solution candidate turns to be \n",
    "    not a solution (or at least not the last one), backtracking algorithm discards it by making some changes on the previous \n",
    "    step, i.e. backtracks and then try again.**\n",
    "    \n",
    "* base case is used in recursion, all recursion case can be written as for loop. But Recursion is recommended when a lots of repeating work is needed. <span style='color:green'> when you need to handle with complex probelms like traversal of a tree/graph\n"
   ]
  },
  {
   "cell_type": "code",
   "execution_count": 6,
   "metadata": {},
   "outputs": [
    {
     "data": {
      "text/plain": [
       "3.0"
      ]
     },
     "execution_count": 6,
     "metadata": {},
     "output_type": "execute_result"
    }
   ],
   "source": [
    "6/\n"
   ]
  },
  {
   "cell_type": "code",
   "execution_count": 67,
   "metadata": {},
   "outputs": [],
   "source": [
    "class Solution:\n",
    "    \n",
    "    def permute(self, nums):\n",
    "        \n",
    "      # write two functions in this way because this is the format of leetcode provides. \n",
    "      #Otherwise we could use one function \n",
    "    # to do dfs backtracking\n",
    "        \n",
    "        def dfsbacktraking(nums, used, depth,stack, result):\n",
    "            \n",
    "            \n",
    "             # base case: \n",
    "             # so when the recursive function has down to its base case what we want it to return\n",
    "             # in this case we want it to add it one permutation into result\n",
    "            if depth == len(nums):\n",
    "                result.append(stack[:]) # if only give stack not slelect its all elements. then we will finally get [] \n",
    "                                        # since all recrisive will bubble up to the first dfs we call there stack \n",
    "                                        #are cleared\n",
    "                                        # as empty stack then all we have append stack will be all replaced as []. since \n",
    "                                        # stack is readable and written \n",
    "                return \n",
    "            \n",
    "            # recursive base \n",
    "            for i in range(len(nums)): # nums: [1,2,3]\n",
    "                if used[i]:  # if this number has been picked then go to another \n",
    "                    continue\n",
    "                stack.append(nums[i]) # [1]\n",
    "                used[i] = True # make this ith number has been picked to avoid repeat picking \n",
    "                dfsbacktraking(nums,used, depth+1, stack, result) # recursive to next depth. depth is the tree depth \n",
    "                \n",
    "                # after returns one nested recursive function: dfsbacktracking() then continue with following codes\n",
    "                # for explem we have reach down to the first permutation [1,2,3]. currently i=2, all used value are True\n",
    "                # stack is also full with one permutaion. then dfsbacktracking() returns with depth =3 which is the length\n",
    "                # of the nums. result has been updated with first permutaion added. then we return from the func and then \n",
    "                # try to clear the space of stack and unselected value from used \n",
    "                stack.pop() # last in first out \n",
    "                used[i] = False \n",
    "        \n",
    "        # initialize \n",
    "        # in Leetcode, we use class so we will create object from the Solution class then call function of the object\n",
    "        # object.permute(nums) then it will run following codes\n",
    "        \n",
    "        if len(nums)==0:\n",
    "            return []\n",
    "        result= []\n",
    "        used=[False]*len(nums)\n",
    "        stack=[]\n",
    "        depth= 0 # start from root tree \n",
    "        dfsbacktraking(nums, used, depth,stack,result)\n",
    "        return result\n",
    "   \n",
    "        \n",
    "        "
   ]
  },
  {
   "cell_type": "code",
   "execution_count": 2,
   "metadata": {},
   "outputs": [],
   "source": [
    "sol= Solution()"
   ]
  },
  {
   "cell_type": "code",
   "execution_count": 3,
   "metadata": {},
   "outputs": [
    {
     "data": {
      "text/plain": [
       "[[1, 2, 3], [1, 3, 2], [2, 1, 3], [2, 3, 1], [3, 1, 2], [3, 2, 1]]"
      ]
     },
     "execution_count": 3,
     "metadata": {},
     "output_type": "execute_result"
    }
   ],
   "source": [
    "sol.permute([1,2,3])"
   ]
  },
  {
   "cell_type": "code",
   "execution_count": 64,
   "metadata": {},
   "outputs": [],
   "source": [
    "### add log to investigate how is depth and i value changed and kept in different layer of function\n",
    "class Solution:\n",
    "    \n",
    "    def permute(self, nums):\n",
    "        \n",
    "        def dfsbacktraking(nums, used, depth,stack, result):\n",
    "            \n",
    "            # base case\n",
    "            if depth == len(nums):\n",
    "                result.append(stack[:]) \n",
    "                print('stack:',stack, 'depth:',depth, 'used:',used,'result:',result)\n",
    "                print('one permutation collected')\n",
    "            \n",
    "            # recursive base \n",
    "            for i in range(len(nums)): # nums: [1,2,3]\n",
    "                \n",
    "                if used[i]:  \n",
    "                    continue\n",
    "               \n",
    "                stack.append(nums[i]) # [1]\n",
    "                used[i] = True \n",
    "                print('**************************************************')\n",
    "                print('stack:',stack, 'used:',used, 'depth:',depth, 'loop value i:',i)\n",
    "                print('****************************************************')\n",
    "                dfsbacktraking(nums,used, depth+1, stack, result) \n",
    "                stack.pop() # last in first out \n",
    "                used[i] = False \n",
    "                print('-----------------------------------------------------------------')\n",
    "                print('stack:',stack, 'used:',used, 'depth:',depth, 'loop value i:',i)\n",
    "                print('-----------------------------------------------------------------')\n",
    "        \n",
    "        if len(nums)==0:\n",
    "            return []\n",
    "        result= []\n",
    "        used=[False]*len(nums)\n",
    "        stack=[]\n",
    "        depth= 0 # start from root tree \n",
    "        dfsbacktraking(nums, used, depth,stack,result)\n",
    "        return result   "
   ]
  },
  {
   "cell_type": "markdown",
   "metadata": {},
   "source": [
    "<span style='color:green'> **depth is the attribute of recursive function dfsbacktracking() so depth value is following \n",
    "the recurive func layer. it is not increased or changed  by the time that you call dfsbacktracking(). This means it does \n",
    "not mean depth ++ as each time you call dfsbacktracking(). depth as the attributs of func, it is only defined which layer of \n",
    "recursive function you call. so if you reaches down to first base case and collect one permutation as [1,2,3] then you finish current dfsbacktracking() which updates the result then it bubbles up to its upp layer dfsbacktracking() where the depth 2. then you pop stack and unselected used to be [T, T, F]. then since for loop ends with i=2, then this bubbled up layer (upplayer above mentioned) also ends. so continue to bubble up, it goes to upper upper layer where i=1, depth=1. so depth decrease now.**"
   ]
  },
  {
   "cell_type": "code",
   "execution_count": 65,
   "metadata": {},
   "outputs": [],
   "source": [
    "sol= Solution()\n"
   ]
  },
  {
   "cell_type": "code",
   "execution_count": 66,
   "metadata": {},
   "outputs": [
    {
     "name": "stdout",
     "output_type": "stream",
     "text": [
      "**************************************************\n",
      "stack: [1] used: [True, False, False] depth: 0 loop value i: 0\n",
      "****************************************************\n",
      "**************************************************\n",
      "stack: [1, 2] used: [True, True, False] depth: 1 loop value i: 1\n",
      "****************************************************\n",
      "**************************************************\n",
      "stack: [1, 2, 3] used: [True, True, True] depth: 2 loop value i: 2\n",
      "****************************************************\n",
      "stack: [1, 2, 3] depth: 3 used: [True, True, True] result: [[1, 2, 3]]\n",
      "one permutation collected\n",
      "-----------------------------------------------------------------\n",
      "stack: [1, 2] used: [True, True, False] depth: 2 loop value i: 2\n",
      "-----------------------------------------------------------------\n",
      "-----------------------------------------------------------------\n",
      "stack: [1] used: [True, False, False] depth: 1 loop value i: 1\n",
      "-----------------------------------------------------------------\n",
      "**************************************************\n",
      "stack: [1, 3] used: [True, False, True] depth: 1 loop value i: 2\n",
      "****************************************************\n",
      "**************************************************\n",
      "stack: [1, 3, 2] used: [True, True, True] depth: 2 loop value i: 1\n",
      "****************************************************\n",
      "stack: [1, 3, 2] depth: 3 used: [True, True, True] result: [[1, 2, 3], [1, 3, 2]]\n",
      "one permutation collected\n",
      "-----------------------------------------------------------------\n",
      "stack: [1, 3] used: [True, False, True] depth: 2 loop value i: 1\n",
      "-----------------------------------------------------------------\n",
      "-----------------------------------------------------------------\n",
      "stack: [1] used: [True, False, False] depth: 1 loop value i: 2\n",
      "-----------------------------------------------------------------\n",
      "-----------------------------------------------------------------\n",
      "stack: [] used: [False, False, False] depth: 0 loop value i: 0\n",
      "-----------------------------------------------------------------\n",
      "**************************************************\n",
      "stack: [2] used: [False, True, False] depth: 0 loop value i: 1\n",
      "****************************************************\n",
      "**************************************************\n",
      "stack: [2, 1] used: [True, True, False] depth: 1 loop value i: 0\n",
      "****************************************************\n",
      "**************************************************\n",
      "stack: [2, 1, 3] used: [True, True, True] depth: 2 loop value i: 2\n",
      "****************************************************\n",
      "stack: [2, 1, 3] depth: 3 used: [True, True, True] result: [[1, 2, 3], [1, 3, 2], [2, 1, 3]]\n",
      "one permutation collected\n",
      "-----------------------------------------------------------------\n",
      "stack: [2, 1] used: [True, True, False] depth: 2 loop value i: 2\n",
      "-----------------------------------------------------------------\n",
      "-----------------------------------------------------------------\n",
      "stack: [2] used: [False, True, False] depth: 1 loop value i: 0\n",
      "-----------------------------------------------------------------\n",
      "**************************************************\n",
      "stack: [2, 3] used: [False, True, True] depth: 1 loop value i: 2\n",
      "****************************************************\n",
      "**************************************************\n",
      "stack: [2, 3, 1] used: [True, True, True] depth: 2 loop value i: 0\n",
      "****************************************************\n",
      "stack: [2, 3, 1] depth: 3 used: [True, True, True] result: [[1, 2, 3], [1, 3, 2], [2, 1, 3], [2, 3, 1]]\n",
      "one permutation collected\n",
      "-----------------------------------------------------------------\n",
      "stack: [2, 3] used: [False, True, True] depth: 2 loop value i: 0\n",
      "-----------------------------------------------------------------\n",
      "-----------------------------------------------------------------\n",
      "stack: [2] used: [False, True, False] depth: 1 loop value i: 2\n",
      "-----------------------------------------------------------------\n",
      "-----------------------------------------------------------------\n",
      "stack: [] used: [False, False, False] depth: 0 loop value i: 1\n",
      "-----------------------------------------------------------------\n",
      "**************************************************\n",
      "stack: [3] used: [False, False, True] depth: 0 loop value i: 2\n",
      "****************************************************\n",
      "**************************************************\n",
      "stack: [3, 1] used: [True, False, True] depth: 1 loop value i: 0\n",
      "****************************************************\n",
      "**************************************************\n",
      "stack: [3, 1, 2] used: [True, True, True] depth: 2 loop value i: 1\n",
      "****************************************************\n",
      "stack: [3, 1, 2] depth: 3 used: [True, True, True] result: [[1, 2, 3], [1, 3, 2], [2, 1, 3], [2, 3, 1], [3, 1, 2]]\n",
      "one permutation collected\n",
      "-----------------------------------------------------------------\n",
      "stack: [3, 1] used: [True, False, True] depth: 2 loop value i: 1\n",
      "-----------------------------------------------------------------\n",
      "-----------------------------------------------------------------\n",
      "stack: [3] used: [False, False, True] depth: 1 loop value i: 0\n",
      "-----------------------------------------------------------------\n",
      "**************************************************\n",
      "stack: [3, 2] used: [False, True, True] depth: 1 loop value i: 1\n",
      "****************************************************\n",
      "**************************************************\n",
      "stack: [3, 2, 1] used: [True, True, True] depth: 2 loop value i: 0\n",
      "****************************************************\n",
      "stack: [3, 2, 1] depth: 3 used: [True, True, True] result: [[1, 2, 3], [1, 3, 2], [2, 1, 3], [2, 3, 1], [3, 1, 2], [3, 2, 1]]\n",
      "one permutation collected\n",
      "-----------------------------------------------------------------\n",
      "stack: [3, 2] used: [False, True, True] depth: 2 loop value i: 0\n",
      "-----------------------------------------------------------------\n",
      "-----------------------------------------------------------------\n",
      "stack: [3] used: [False, False, True] depth: 1 loop value i: 1\n",
      "-----------------------------------------------------------------\n",
      "-----------------------------------------------------------------\n",
      "stack: [] used: [False, False, False] depth: 0 loop value i: 2\n",
      "-----------------------------------------------------------------\n"
     ]
    },
    {
     "data": {
      "text/plain": [
       "[[1, 2, 3], [1, 3, 2], [2, 1, 3], [2, 3, 1], [3, 1, 2], [3, 2, 1]]"
      ]
     },
     "execution_count": 66,
     "metadata": {},
     "output_type": "execute_result"
    }
   ],
   "source": [
    "sol.permute([1,2,3])"
   ]
  }
 ],
 "metadata": {
  "kernelspec": {
   "display_name": "Python 3",
   "language": "python",
   "name": "python3"
  },
  "language_info": {
   "codemirror_mode": {
    "name": "ipython",
    "version": 3
   },
   "file_extension": ".py",
   "mimetype": "text/x-python",
   "name": "python",
   "nbconvert_exporter": "python",
   "pygments_lexer": "ipython3",
   "version": "3.8.5"
  }
 },
 "nbformat": 4,
 "nbformat_minor": 4
}
