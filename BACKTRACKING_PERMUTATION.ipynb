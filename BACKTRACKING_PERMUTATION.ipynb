{
 "cells": [
  {
   "cell_type": "markdown",
   "metadata": {},
   "source": [
    "### Exercise"
   ]
  },
  {
   "cell_type": "markdown",
   "metadata": {},
   "source": [
    "### 1. Largest number\n",
    "Given a list of non-negative integers nums, arrange them such that they form the largest number.\n",
    "\n",
    "Note: The result may be very large, so you need to return a string instead of an integer.\n",
    "\n",
    "Input: nums = [10,2]\\\n",
    "Output: \"210\"\n",
    "\n",
    "\\\n",
    "Input: nums = [3,30,34,5,9]\\\n",
    "Output: \"9534330\"\n",
    "\n",
    "\\\n",
    "Input: nums = [10]\\\n",
    "Output: \"10\"\n",
    " "
   ]
  },
  {
   "cell_type": "code",
   "execution_count": 66,
   "metadata": {},
   "outputs": [],
   "source": [
    "class LargerNumKey(str):\n",
    "    def __lt__(x, y):\n",
    "        return x+y > y+x\n",
    "        \n",
    "class Solution:\n",
    "    def largestNumber(self, nums):\n",
    "        largest_num = ''.join(sorted(map(str, nums), key=LargerNumKey)) # sorted based on the pairs connection \n",
    "        print(largest_num[0])\n",
    "        return '0' if largest_num[0] == '0' else largest_num"
   ]
  },
  {
   "cell_type": "code",
   "execution_count": 77,
   "metadata": {},
   "outputs": [],
   "source": [
    "nums= [0,0]\n",
    "ln=Solution()"
   ]
  },
  {
   "cell_type": "code",
   "execution_count": 78,
   "metadata": {},
   "outputs": [
    {
     "name": "stdout",
     "output_type": "stream",
     "text": [
      "0\n"
     ]
    },
    {
     "data": {
      "text/plain": [
       "'0'"
      ]
     },
     "execution_count": 78,
     "metadata": {},
     "output_type": "execute_result"
    }
   ],
   "source": [
    "ln.largestNumber(nums)"
   ]
  },
  {
   "cell_type": "code",
   "execution_count": 65,
   "metadata": {},
   "outputs": [
    {
     "data": {
      "text/plain": [
       "['3', '30', '34', '5', '9']"
      ]
     },
     "execution_count": 65,
     "metadata": {},
     "output_type": "execute_result"
    }
   ],
   "source": [
    "list(map(str,nums))\n",
    "# 3 34 5 9 30 \n",
    "# 34 5 9 3 30\n",
    "#5 9 34 3 30\n",
    "#9 5 34 3 30"
   ]
  },
  {
   "cell_type": "code",
   "execution_count": 63,
   "metadata": {},
   "outputs": [
    {
     "data": {
      "text/plain": [
       "['9', '5', '34', '3', '30']"
      ]
     },
     "execution_count": 63,
     "metadata": {},
     "output_type": "execute_result"
    }
   ],
   "source": [
    "sorted(map(str,nums), key=LargerNumKey)"
   ]
  },
  {
   "cell_type": "code",
   "execution_count": 62,
   "metadata": {},
   "outputs": [
    {
     "data": {
      "text/plain": [
       "[9, 5, 34, 3, 30]"
      ]
     },
     "execution_count": 62,
     "metadata": {},
     "output_type": "execute_result"
    }
   ],
   "source": [
    "sorted(nums, key=LargerNumKey)"
   ]
  },
  {
   "cell_type": "code",
   "execution_count": 37,
   "metadata": {},
   "outputs": [
    {
     "data": {
      "text/plain": [
       "[3, 30, 34, 5, 9]"
      ]
     },
     "execution_count": 37,
     "metadata": {},
     "output_type": "execute_result"
    }
   ],
   "source": [
    "sorted(nums, key=LargerNumKey)"
   ]
  },
  {
   "cell_type": "code",
   "execution_count": 11,
   "metadata": {},
   "outputs": [
    {
     "data": {
      "text/plain": [
       "'3303459'"
      ]
     },
     "execution_count": 11,
     "metadata": {},
     "output_type": "execute_result"
    }
   ],
   "source": [
    "kk=''.join(sorted(map(str,nums)))\n",
    "kk"
   ]
  },
  {
   "cell_type": "code",
   "execution_count": 23,
   "metadata": {},
   "outputs": [
    {
     "name": "stdout",
     "output_type": "stream",
     "text": [
      "Help on built-in function sorted in module builtins:\n",
      "\n",
      "sorted(iterable, /, *, key=None, reverse=False)\n",
      "    Return a new list containing all items from the iterable in ascending order.\n",
      "    \n",
      "    A custom key function can be supplied to customize the sort order, and the\n",
      "    reverse flag can be set to request the result in descending order.\n",
      "\n"
     ]
    }
   ],
   "source": [
    "help(sorted)"
   ]
  },
  {
   "cell_type": "code",
   "execution_count": 59,
   "metadata": {},
   "outputs": [
    {
     "data": {
      "text/plain": [
       "3"
      ]
     },
     "execution_count": 59,
     "metadata": {},
     "output_type": "execute_result"
    }
   ],
   "source": [
    "https://www.geeksforgeeks.org/sorted-function-python/"
   ]
  },
  {
   "cell_type": "markdown",
   "metadata": {},
   "source": [
    "### 2. PERMUTATION\n",
    "Given an array nums of distinct integers, return all the possible permutations. You can return the answer in any order.\n",
    "\n",
    " \n",
    "\n",
    "Example 1:\n",
    "\n",
    "Input: nums = [1,2,3]\\\n",
    "Output: [[1,2,3],[1,3,2],[2,1,3],[2,3,1],[3,1,2],[3,2,1]]\\\n",
    "\n",
    "Example 2:\n",
    "\n",
    "Input: nums = [0,1]\\\n",
    "Output: [[0,1],[1,0]]\\\n",
    "\n",
    "Example 3:\n",
    "\n",
    "Input: nums = [1]\\\n",
    "Output: [[1]]"
   ]
  },
  {
   "cell_type": "code",
   "execution_count": null,
   "metadata": {},
   "outputs": [],
   "source": [
    "#[1,2,3], 1 3 2;2,1,3, 2 3 1, 3 1 2 3 2 1\n",
    "1234,1243 1324 1342 1423 1432  6 \n",
    "2134 2143 2341 2314 "
   ]
  },
  {
   "cell_type": "code",
   "execution_count": 43,
   "metadata": {},
   "outputs": [],
   "source": [
    "class Solution:\n",
    "    \n",
    "    def permutation(self, nums):\n",
    "        \n",
    "        \n",
    "        def dfsbacktracking(nums,used,depth,length,stack,result):\n",
    "           \n",
    "        \n",
    "            # base case \n",
    "            if depth==length:\n",
    "                print('dfs returns here so continue after dfs:', depth)\n",
    "                result.append(stack[:])\n",
    "                return result\n",
    "            \n",
    "            # recursuive base\n",
    "            for i in range(length):\n",
    "                print('back to for range loop')\n",
    "                if used[i]: # i>0 \n",
    "                    continue\n",
    "                    \n",
    "                stack.append(nums[i]) # select one num which is unslected before from nums 0, \n",
    "                \n",
    "                used[i]=True  # mark this index of nums has been selected \n",
    "                \n",
    "                # then we need to recusive to next level \n",
    "                print('before current stack, i, depth:', stack, i, depth, used)\n",
    "                dfsbacktracking(nums,used, depth+1, length,stack,result) # \n",
    "                \n",
    "                #back tracking\n",
    "                print('before pop, i, depth:', stack, i, depth, used)\n",
    "                stack.pop() # last in first out to reset status \n",
    "                used[i] = False\n",
    "                \n",
    "                print('after pop reset current stack, i, depth:', stack, i, depth, used)\n",
    "                \n",
    "        length=len(nums)  \n",
    "         \n",
    "        if length == 0:\n",
    "            return []\n",
    "                \n",
    "        used = [False]*length\n",
    "        result = []\n",
    "        \n",
    "        dfsbacktracking(nums, used, 0, length,[], result)\n",
    "        \n",
    "        return result\n",
    "                "
   ]
  },
  {
   "cell_type": "code",
   "execution_count": 44,
   "metadata": {},
   "outputs": [],
   "source": [
    "nums=[1,2,3,4]\n",
    "#nums=[4,1,2,7,5,3,1]_Ä -.\n",
    "sl=Solution()"
   ]
  },
  {
   "cell_type": "code",
   "execution_count": 45,
   "metadata": {},
   "outputs": [
    {
     "name": "stdout",
     "output_type": "stream",
     "text": [
      "back to for range loop\n",
      "before current stack, i, depth: [1] 0 0 [True, False, False, False]\n",
      "back to for range loop\n",
      "back to for range loop\n",
      "before current stack, i, depth: [1, 2] 1 1 [True, True, False, False]\n",
      "back to for range loop\n",
      "back to for range loop\n",
      "back to for range loop\n",
      "before current stack, i, depth: [1, 2, 3] 2 2 [True, True, True, False]\n",
      "back to for range loop\n",
      "back to for range loop\n",
      "back to for range loop\n",
      "back to for range loop\n",
      "before current stack, i, depth: [1, 2, 3, 4] 3 3 [True, True, True, True]\n",
      "dfs returns here so continue after dfs: 4\n",
      "before pop, i, depth: [1, 2, 3, 4] 3 3 [True, True, True, True]\n",
      "after pop reset current stack, i, depth: [1, 2, 3] 3 3 [True, True, True, False]\n",
      "before pop, i, depth: [1, 2, 3] 2 2 [True, True, True, False]\n",
      "after pop reset current stack, i, depth: [1, 2] 2 2 [True, True, False, False]\n",
      "back to for range loop\n",
      "before current stack, i, depth: [1, 2, 4] 3 2 [True, True, False, True]\n",
      "back to for range loop\n",
      "back to for range loop\n",
      "back to for range loop\n",
      "before current stack, i, depth: [1, 2, 4, 3] 2 3 [True, True, True, True]\n",
      "dfs returns here so continue after dfs: 4\n",
      "before pop, i, depth: [1, 2, 4, 3] 2 3 [True, True, True, True]\n",
      "after pop reset current stack, i, depth: [1, 2, 4] 2 3 [True, True, False, True]\n",
      "back to for range loop\n",
      "before pop, i, depth: [1, 2, 4] 3 2 [True, True, False, True]\n",
      "after pop reset current stack, i, depth: [1, 2] 3 2 [True, True, False, False]\n",
      "before pop, i, depth: [1, 2] 1 1 [True, True, False, False]\n",
      "after pop reset current stack, i, depth: [1] 1 1 [True, False, False, False]\n",
      "back to for range loop\n",
      "before current stack, i, depth: [1, 3] 2 1 [True, False, True, False]\n",
      "back to for range loop\n",
      "back to for range loop\n",
      "before current stack, i, depth: [1, 3, 2] 1 2 [True, True, True, False]\n",
      "back to for range loop\n",
      "back to for range loop\n",
      "back to for range loop\n",
      "back to for range loop\n",
      "before current stack, i, depth: [1, 3, 2, 4] 3 3 [True, True, True, True]\n",
      "dfs returns here so continue after dfs: 4\n",
      "before pop, i, depth: [1, 3, 2, 4] 3 3 [True, True, True, True]\n",
      "after pop reset current stack, i, depth: [1, 3, 2] 3 3 [True, True, True, False]\n",
      "before pop, i, depth: [1, 3, 2] 1 2 [True, True, True, False]\n",
      "after pop reset current stack, i, depth: [1, 3] 1 2 [True, False, True, False]\n",
      "back to for range loop\n",
      "back to for range loop\n",
      "before current stack, i, depth: [1, 3, 4] 3 2 [True, False, True, True]\n",
      "back to for range loop\n",
      "back to for range loop\n",
      "before current stack, i, depth: [1, 3, 4, 2] 1 3 [True, True, True, True]\n",
      "dfs returns here so continue after dfs: 4\n",
      "before pop, i, depth: [1, 3, 4, 2] 1 3 [True, True, True, True]\n",
      "after pop reset current stack, i, depth: [1, 3, 4] 1 3 [True, False, True, True]\n",
      "back to for range loop\n",
      "back to for range loop\n",
      "before pop, i, depth: [1, 3, 4] 3 2 [True, False, True, True]\n",
      "after pop reset current stack, i, depth: [1, 3] 3 2 [True, False, True, False]\n",
      "before pop, i, depth: [1, 3] 2 1 [True, False, True, False]\n",
      "after pop reset current stack, i, depth: [1] 2 1 [True, False, False, False]\n",
      "back to for range loop\n",
      "before current stack, i, depth: [1, 4] 3 1 [True, False, False, True]\n",
      "back to for range loop\n",
      "back to for range loop\n",
      "before current stack, i, depth: [1, 4, 2] 1 2 [True, True, False, True]\n",
      "back to for range loop\n",
      "back to for range loop\n",
      "back to for range loop\n",
      "before current stack, i, depth: [1, 4, 2, 3] 2 3 [True, True, True, True]\n",
      "dfs returns here so continue after dfs: 4\n",
      "before pop, i, depth: [1, 4, 2, 3] 2 3 [True, True, True, True]\n",
      "after pop reset current stack, i, depth: [1, 4, 2] 2 3 [True, True, False, True]\n",
      "back to for range loop\n",
      "before pop, i, depth: [1, 4, 2] 1 2 [True, True, False, True]\n",
      "after pop reset current stack, i, depth: [1, 4] 1 2 [True, False, False, True]\n",
      "back to for range loop\n",
      "before current stack, i, depth: [1, 4, 3] 2 2 [True, False, True, True]\n",
      "back to for range loop\n",
      "back to for range loop\n",
      "before current stack, i, depth: [1, 4, 3, 2] 1 3 [True, True, True, True]\n",
      "dfs returns here so continue after dfs: 4\n",
      "before pop, i, depth: [1, 4, 3, 2] 1 3 [True, True, True, True]\n",
      "after pop reset current stack, i, depth: [1, 4, 3] 1 3 [True, False, True, True]\n",
      "back to for range loop\n",
      "back to for range loop\n",
      "before pop, i, depth: [1, 4, 3] 2 2 [True, False, True, True]\n",
      "after pop reset current stack, i, depth: [1, 4] 2 2 [True, False, False, True]\n",
      "back to for range loop\n",
      "before pop, i, depth: [1, 4] 3 1 [True, False, False, True]\n",
      "after pop reset current stack, i, depth: [1] 3 1 [True, False, False, False]\n",
      "before pop, i, depth: [1] 0 0 [True, False, False, False]\n",
      "after pop reset current stack, i, depth: [] 0 0 [False, False, False, False]\n",
      "back to for range loop\n",
      "before current stack, i, depth: [2] 1 0 [False, True, False, False]\n",
      "back to for range loop\n",
      "before current stack, i, depth: [2, 1] 0 1 [True, True, False, False]\n",
      "back to for range loop\n",
      "back to for range loop\n",
      "back to for range loop\n",
      "before current stack, i, depth: [2, 1, 3] 2 2 [True, True, True, False]\n",
      "back to for range loop\n",
      "back to for range loop\n",
      "back to for range loop\n",
      "back to for range loop\n",
      "before current stack, i, depth: [2, 1, 3, 4] 3 3 [True, True, True, True]\n",
      "dfs returns here so continue after dfs: 4\n",
      "before pop, i, depth: [2, 1, 3, 4] 3 3 [True, True, True, True]\n",
      "after pop reset current stack, i, depth: [2, 1, 3] 3 3 [True, True, True, False]\n",
      "before pop, i, depth: [2, 1, 3] 2 2 [True, True, True, False]\n",
      "after pop reset current stack, i, depth: [2, 1] 2 2 [True, True, False, False]\n",
      "back to for range loop\n",
      "before current stack, i, depth: [2, 1, 4] 3 2 [True, True, False, True]\n",
      "back to for range loop\n",
      "back to for range loop\n",
      "back to for range loop\n",
      "before current stack, i, depth: [2, 1, 4, 3] 2 3 [True, True, True, True]\n",
      "dfs returns here so continue after dfs: 4\n",
      "before pop, i, depth: [2, 1, 4, 3] 2 3 [True, True, True, True]\n",
      "after pop reset current stack, i, depth: [2, 1, 4] 2 3 [True, True, False, True]\n",
      "back to for range loop\n",
      "before pop, i, depth: [2, 1, 4] 3 2 [True, True, False, True]\n",
      "after pop reset current stack, i, depth: [2, 1] 3 2 [True, True, False, False]\n",
      "before pop, i, depth: [2, 1] 0 1 [True, True, False, False]\n",
      "after pop reset current stack, i, depth: [2] 0 1 [False, True, False, False]\n",
      "back to for range loop\n",
      "back to for range loop\n",
      "before current stack, i, depth: [2, 3] 2 1 [False, True, True, False]\n",
      "back to for range loop\n",
      "before current stack, i, depth: [2, 3, 1] 0 2 [True, True, True, False]\n",
      "back to for range loop\n",
      "back to for range loop\n",
      "back to for range loop\n",
      "back to for range loop\n",
      "before current stack, i, depth: [2, 3, 1, 4] 3 3 [True, True, True, True]\n",
      "dfs returns here so continue after dfs: 4\n",
      "before pop, i, depth: [2, 3, 1, 4] 3 3 [True, True, True, True]\n",
      "after pop reset current stack, i, depth: [2, 3, 1] 3 3 [True, True, True, False]\n",
      "before pop, i, depth: [2, 3, 1] 0 2 [True, True, True, False]\n",
      "after pop reset current stack, i, depth: [2, 3] 0 2 [False, True, True, False]\n",
      "back to for range loop\n",
      "back to for range loop\n",
      "back to for range loop\n",
      "before current stack, i, depth: [2, 3, 4] 3 2 [False, True, True, True]\n",
      "back to for range loop\n",
      "before current stack, i, depth: [2, 3, 4, 1] 0 3 [True, True, True, True]\n",
      "dfs returns here so continue after dfs: 4\n",
      "before pop, i, depth: [2, 3, 4, 1] 0 3 [True, True, True, True]\n",
      "after pop reset current stack, i, depth: [2, 3, 4] 0 3 [False, True, True, True]\n",
      "back to for range loop\n",
      "back to for range loop\n",
      "back to for range loop\n",
      "before pop, i, depth: [2, 3, 4] 3 2 [False, True, True, True]\n",
      "after pop reset current stack, i, depth: [2, 3] 3 2 [False, True, True, False]\n",
      "before pop, i, depth: [2, 3] 2 1 [False, True, True, False]\n",
      "after pop reset current stack, i, depth: [2] 2 1 [False, True, False, False]\n",
      "back to for range loop\n",
      "before current stack, i, depth: [2, 4] 3 1 [False, True, False, True]\n",
      "back to for range loop\n",
      "before current stack, i, depth: [2, 4, 1] 0 2 [True, True, False, True]\n",
      "back to for range loop\n",
      "back to for range loop\n",
      "back to for range loop\n",
      "before current stack, i, depth: [2, 4, 1, 3] 2 3 [True, True, True, True]\n",
      "dfs returns here so continue after dfs: 4\n",
      "before pop, i, depth: [2, 4, 1, 3] 2 3 [True, True, True, True]\n",
      "after pop reset current stack, i, depth: [2, 4, 1] 2 3 [True, True, False, True]\n",
      "back to for range loop\n",
      "before pop, i, depth: [2, 4, 1] 0 2 [True, True, False, True]\n",
      "after pop reset current stack, i, depth: [2, 4] 0 2 [False, True, False, True]\n",
      "back to for range loop\n",
      "back to for range loop\n",
      "before current stack, i, depth: [2, 4, 3] 2 2 [False, True, True, True]\n",
      "back to for range loop\n",
      "before current stack, i, depth: [2, 4, 3, 1] 0 3 [True, True, True, True]\n",
      "dfs returns here so continue after dfs: 4\n",
      "before pop, i, depth: [2, 4, 3, 1] 0 3 [True, True, True, True]\n",
      "after pop reset current stack, i, depth: [2, 4, 3] 0 3 [False, True, True, True]\n",
      "back to for range loop\n",
      "back to for range loop\n",
      "back to for range loop\n",
      "before pop, i, depth: [2, 4, 3] 2 2 [False, True, True, True]\n",
      "after pop reset current stack, i, depth: [2, 4] 2 2 [False, True, False, True]\n",
      "back to for range loop\n",
      "before pop, i, depth: [2, 4] 3 1 [False, True, False, True]\n",
      "after pop reset current stack, i, depth: [2] 3 1 [False, True, False, False]\n",
      "before pop, i, depth: [2] 1 0 [False, True, False, False]\n",
      "after pop reset current stack, i, depth: [] 1 0 [False, False, False, False]\n",
      "back to for range loop\n",
      "before current stack, i, depth: [3] 2 0 [False, False, True, False]\n",
      "back to for range loop\n",
      "before current stack, i, depth: [3, 1] 0 1 [True, False, True, False]\n",
      "back to for range loop\n",
      "back to for range loop\n",
      "before current stack, i, depth: [3, 1, 2] 1 2 [True, True, True, False]\n",
      "back to for range loop\n",
      "back to for range loop\n",
      "back to for range loop\n",
      "back to for range loop\n",
      "before current stack, i, depth: [3, 1, 2, 4] 3 3 [True, True, True, True]\n",
      "dfs returns here so continue after dfs: 4\n",
      "before pop, i, depth: [3, 1, 2, 4] 3 3 [True, True, True, True]\n",
      "after pop reset current stack, i, depth: [3, 1, 2] 3 3 [True, True, True, False]\n",
      "before pop, i, depth: [3, 1, 2] 1 2 [True, True, True, False]\n",
      "after pop reset current stack, i, depth: [3, 1] 1 2 [True, False, True, False]\n",
      "back to for range loop\n",
      "back to for range loop\n",
      "before current stack, i, depth: [3, 1, 4] 3 2 [True, False, True, True]\n",
      "back to for range loop\n",
      "back to for range loop\n",
      "before current stack, i, depth: [3, 1, 4, 2] 1 3 [True, True, True, True]\n",
      "dfs returns here so continue after dfs: 4\n",
      "before pop, i, depth: [3, 1, 4, 2] 1 3 [True, True, True, True]\n",
      "after pop reset current stack, i, depth: [3, 1, 4] 1 3 [True, False, True, True]\n",
      "back to for range loop\n",
      "back to for range loop\n",
      "before pop, i, depth: [3, 1, 4] 3 2 [True, False, True, True]\n",
      "after pop reset current stack, i, depth: [3, 1] 3 2 [True, False, True, False]\n",
      "before pop, i, depth: [3, 1] 0 1 [True, False, True, False]\n",
      "after pop reset current stack, i, depth: [3] 0 1 [False, False, True, False]\n",
      "back to for range loop\n",
      "before current stack, i, depth: [3, 2] 1 1 [False, True, True, False]\n",
      "back to for range loop\n",
      "before current stack, i, depth: [3, 2, 1] 0 2 [True, True, True, False]\n",
      "back to for range loop\n",
      "back to for range loop\n",
      "back to for range loop\n",
      "back to for range loop\n",
      "before current stack, i, depth: [3, 2, 1, 4] 3 3 [True, True, True, True]\n",
      "dfs returns here so continue after dfs: 4\n",
      "before pop, i, depth: [3, 2, 1, 4] 3 3 [True, True, True, True]\n",
      "after pop reset current stack, i, depth: [3, 2, 1] 3 3 [True, True, True, False]\n",
      "before pop, i, depth: [3, 2, 1] 0 2 [True, True, True, False]\n",
      "after pop reset current stack, i, depth: [3, 2] 0 2 [False, True, True, False]\n",
      "back to for range loop\n",
      "back to for range loop\n",
      "back to for range loop\n",
      "before current stack, i, depth: [3, 2, 4] 3 2 [False, True, True, True]\n",
      "back to for range loop\n",
      "before current stack, i, depth: [3, 2, 4, 1] 0 3 [True, True, True, True]\n",
      "dfs returns here so continue after dfs: 4\n",
      "before pop, i, depth: [3, 2, 4, 1] 0 3 [True, True, True, True]\n",
      "after pop reset current stack, i, depth: [3, 2, 4] 0 3 [False, True, True, True]\n",
      "back to for range loop\n",
      "back to for range loop\n",
      "back to for range loop\n",
      "before pop, i, depth: [3, 2, 4] 3 2 [False, True, True, True]\n",
      "after pop reset current stack, i, depth: [3, 2] 3 2 [False, True, True, False]\n",
      "before pop, i, depth: [3, 2] 1 1 [False, True, True, False]\n",
      "after pop reset current stack, i, depth: [3] 1 1 [False, False, True, False]\n",
      "back to for range loop\n",
      "back to for range loop\n",
      "before current stack, i, depth: [3, 4] 3 1 [False, False, True, True]\n",
      "back to for range loop\n",
      "before current stack, i, depth: [3, 4, 1] 0 2 [True, False, True, True]\n",
      "back to for range loop\n",
      "back to for range loop\n",
      "before current stack, i, depth: [3, 4, 1, 2] 1 3 [True, True, True, True]\n",
      "dfs returns here so continue after dfs: 4\n",
      "before pop, i, depth: [3, 4, 1, 2] 1 3 [True, True, True, True]\n",
      "after pop reset current stack, i, depth: [3, 4, 1] 1 3 [True, False, True, True]\n",
      "back to for range loop\n",
      "back to for range loop\n",
      "before pop, i, depth: [3, 4, 1] 0 2 [True, False, True, True]\n",
      "after pop reset current stack, i, depth: [3, 4] 0 2 [False, False, True, True]\n",
      "back to for range loop\n",
      "before current stack, i, depth: [3, 4, 2] 1 2 [False, True, True, True]\n",
      "back to for range loop\n",
      "before current stack, i, depth: [3, 4, 2, 1] 0 3 [True, True, True, True]\n",
      "dfs returns here so continue after dfs: 4\n",
      "before pop, i, depth: [3, 4, 2, 1] 0 3 [True, True, True, True]\n",
      "after pop reset current stack, i, depth: [3, 4, 2] 0 3 [False, True, True, True]\n",
      "back to for range loop\n",
      "back to for range loop\n",
      "back to for range loop\n",
      "before pop, i, depth: [3, 4, 2] 1 2 [False, True, True, True]\n",
      "after pop reset current stack, i, depth: [3, 4] 1 2 [False, False, True, True]\n",
      "back to for range loop\n",
      "back to for range loop\n",
      "before pop, i, depth: [3, 4] 3 1 [False, False, True, True]\n",
      "after pop reset current stack, i, depth: [3] 3 1 [False, False, True, False]\n",
      "before pop, i, depth: [3] 2 0 [False, False, True, False]\n",
      "after pop reset current stack, i, depth: [] 2 0 [False, False, False, False]\n",
      "back to for range loop\n",
      "before current stack, i, depth: [4] 3 0 [False, False, False, True]\n",
      "back to for range loop\n",
      "before current stack, i, depth: [4, 1] 0 1 [True, False, False, True]\n",
      "back to for range loop\n",
      "back to for range loop\n",
      "before current stack, i, depth: [4, 1, 2] 1 2 [True, True, False, True]\n",
      "back to for range loop\n",
      "back to for range loop\n",
      "back to for range loop\n",
      "before current stack, i, depth: [4, 1, 2, 3] 2 3 [True, True, True, True]\n",
      "dfs returns here so continue after dfs: 4\n",
      "before pop, i, depth: [4, 1, 2, 3] 2 3 [True, True, True, True]\n",
      "after pop reset current stack, i, depth: [4, 1, 2] 2 3 [True, True, False, True]\n",
      "back to for range loop\n",
      "before pop, i, depth: [4, 1, 2] 1 2 [True, True, False, True]\n",
      "after pop reset current stack, i, depth: [4, 1] 1 2 [True, False, False, True]\n",
      "back to for range loop\n",
      "before current stack, i, depth: [4, 1, 3] 2 2 [True, False, True, True]\n",
      "back to for range loop\n",
      "back to for range loop\n",
      "before current stack, i, depth: [4, 1, 3, 2] 1 3 [True, True, True, True]\n",
      "dfs returns here so continue after dfs: 4\n",
      "before pop, i, depth: [4, 1, 3, 2] 1 3 [True, True, True, True]\n",
      "after pop reset current stack, i, depth: [4, 1, 3] 1 3 [True, False, True, True]\n",
      "back to for range loop\n",
      "back to for range loop\n",
      "before pop, i, depth: [4, 1, 3] 2 2 [True, False, True, True]\n",
      "after pop reset current stack, i, depth: [4, 1] 2 2 [True, False, False, True]\n",
      "back to for range loop\n",
      "before pop, i, depth: [4, 1] 0 1 [True, False, False, True]\n",
      "after pop reset current stack, i, depth: [4] 0 1 [False, False, False, True]\n",
      "back to for range loop\n",
      "before current stack, i, depth: [4, 2] 1 1 [False, True, False, True]\n",
      "back to for range loop\n",
      "before current stack, i, depth: [4, 2, 1] 0 2 [True, True, False, True]\n",
      "back to for range loop\n",
      "back to for range loop\n",
      "back to for range loop\n",
      "before current stack, i, depth: [4, 2, 1, 3] 2 3 [True, True, True, True]\n",
      "dfs returns here so continue after dfs: 4\n",
      "before pop, i, depth: [4, 2, 1, 3] 2 3 [True, True, True, True]\n",
      "after pop reset current stack, i, depth: [4, 2, 1] 2 3 [True, True, False, True]\n",
      "back to for range loop\n",
      "before pop, i, depth: [4, 2, 1] 0 2 [True, True, False, True]\n",
      "after pop reset current stack, i, depth: [4, 2] 0 2 [False, True, False, True]\n",
      "back to for range loop\n",
      "back to for range loop\n",
      "before current stack, i, depth: [4, 2, 3] 2 2 [False, True, True, True]\n",
      "back to for range loop\n",
      "before current stack, i, depth: [4, 2, 3, 1] 0 3 [True, True, True, True]\n",
      "dfs returns here so continue after dfs: 4\n",
      "before pop, i, depth: [4, 2, 3, 1] 0 3 [True, True, True, True]\n",
      "after pop reset current stack, i, depth: [4, 2, 3] 0 3 [False, True, True, True]\n",
      "back to for range loop\n",
      "back to for range loop\n",
      "back to for range loop\n",
      "before pop, i, depth: [4, 2, 3] 2 2 [False, True, True, True]\n",
      "after pop reset current stack, i, depth: [4, 2] 2 2 [False, True, False, True]\n",
      "back to for range loop\n",
      "before pop, i, depth: [4, 2] 1 1 [False, True, False, True]\n",
      "after pop reset current stack, i, depth: [4] 1 1 [False, False, False, True]\n",
      "back to for range loop\n",
      "before current stack, i, depth: [4, 3] 2 1 [False, False, True, True]\n",
      "back to for range loop\n",
      "before current stack, i, depth: [4, 3, 1] 0 2 [True, False, True, True]\n",
      "back to for range loop\n",
      "back to for range loop\n",
      "before current stack, i, depth: [4, 3, 1, 2] 1 3 [True, True, True, True]\n",
      "dfs returns here so continue after dfs: 4\n",
      "before pop, i, depth: [4, 3, 1, 2] 1 3 [True, True, True, True]\n",
      "after pop reset current stack, i, depth: [4, 3, 1] 1 3 [True, False, True, True]\n",
      "back to for range loop\n",
      "back to for range loop\n",
      "before pop, i, depth: [4, 3, 1] 0 2 [True, False, True, True]\n",
      "after pop reset current stack, i, depth: [4, 3] 0 2 [False, False, True, True]\n",
      "back to for range loop\n",
      "before current stack, i, depth: [4, 3, 2] 1 2 [False, True, True, True]\n",
      "back to for range loop\n",
      "before current stack, i, depth: [4, 3, 2, 1] 0 3 [True, True, True, True]\n",
      "dfs returns here so continue after dfs: 4\n",
      "before pop, i, depth: [4, 3, 2, 1] 0 3 [True, True, True, True]\n",
      "after pop reset current stack, i, depth: [4, 3, 2] 0 3 [False, True, True, True]\n",
      "back to for range loop\n",
      "back to for range loop\n",
      "back to for range loop\n",
      "before pop, i, depth: [4, 3, 2] 1 2 [False, True, True, True]\n",
      "after pop reset current stack, i, depth: [4, 3] 1 2 [False, False, True, True]\n",
      "back to for range loop\n",
      "back to for range loop\n",
      "before pop, i, depth: [4, 3] 2 1 [False, False, True, True]\n",
      "after pop reset current stack, i, depth: [4] 2 1 [False, False, False, True]\n",
      "back to for range loop\n",
      "before pop, i, depth: [4] 3 0 [False, False, False, True]\n",
      "after pop reset current stack, i, depth: [] 3 0 [False, False, False, False]\n"
     ]
    },
    {
     "data": {
      "text/plain": [
       "[[1, 2, 3, 4],\n",
       " [1, 2, 4, 3],\n",
       " [1, 3, 2, 4],\n",
       " [1, 3, 4, 2],\n",
       " [1, 4, 2, 3],\n",
       " [1, 4, 3, 2],\n",
       " [2, 1, 3, 4],\n",
       " [2, 1, 4, 3],\n",
       " [2, 3, 1, 4],\n",
       " [2, 3, 4, 1],\n",
       " [2, 4, 1, 3],\n",
       " [2, 4, 3, 1],\n",
       " [3, 1, 2, 4],\n",
       " [3, 1, 4, 2],\n",
       " [3, 2, 1, 4],\n",
       " [3, 2, 4, 1],\n",
       " [3, 4, 1, 2],\n",
       " [3, 4, 2, 1],\n",
       " [4, 1, 2, 3],\n",
       " [4, 1, 3, 2],\n",
       " [4, 2, 1, 3],\n",
       " [4, 2, 3, 1],\n",
       " [4, 3, 1, 2],\n",
       " [4, 3, 2, 1]]"
      ]
     },
     "execution_count": 45,
     "metadata": {},
     "output_type": "execute_result"
    }
   ],
   "source": [
    "sl.permutation(nums)"
   ]
  },
  {
   "cell_type": "code",
   "execution_count": 118,
   "metadata": {},
   "outputs": [
    {
     "name": "stdout",
     "output_type": "stream",
     "text": [
      "[[1, 2, 3], [1, 3, 2], [2, 1, 3], [2, 3, 1], [3, 1, 2], [3, 2, 1]]\n"
     ]
    }
   ],
   "source": [
    "class Solution:\n",
    "    def permute(self, nums):\n",
    "        def dfs(nums, size, depth, path, used, res):\n",
    "            if depth == size:\n",
    "                res.append(path[:])\n",
    "                return\n",
    "\n",
    "            for i in range(size):\n",
    "                if not used[i]:\n",
    "                    used[i] = True\n",
    "                    path.append(nums[i])\n",
    "\n",
    "                    dfs(nums, size, depth + 1, path, used, res)\n",
    "\n",
    "                    used[i] = False\n",
    "                    path.pop()\n",
    "\n",
    "        size = len(nums)\n",
    "        if len(nums) == 0:\n",
    "            return []\n",
    "\n",
    "        used = [False for _ in range(size)]\n",
    "        res = []\n",
    "        dfs(nums, size, 0, [], used, res)\n",
    "        return res\n",
    "\n",
    "if __name__ == '__main__':\n",
    "    nums = [1, 2, 3]\n",
    "    solution = Solution()\n",
    "    res = solution.permute(nums)\n",
    "    print(res)\n",
    "\n"
   ]
  },
  {
   "cell_type": "code",
   "execution_count": 119,
   "metadata": {},
   "outputs": [],
   "source": [
    "nums=[1,2,3,4]\n",
    "sl=Solution()"
   ]
  },
  {
   "cell_type": "code",
   "execution_count": 120,
   "metadata": {},
   "outputs": [
    {
     "data": {
      "text/plain": [
       "[[1, 2, 3, 4],\n",
       " [1, 2, 4, 3],\n",
       " [1, 3, 2, 4],\n",
       " [1, 3, 4, 2],\n",
       " [1, 4, 2, 3],\n",
       " [1, 4, 3, 2],\n",
       " [2, 1, 3, 4],\n",
       " [2, 1, 4, 3],\n",
       " [2, 3, 1, 4],\n",
       " [2, 3, 4, 1],\n",
       " [2, 4, 1, 3],\n",
       " [2, 4, 3, 1],\n",
       " [3, 1, 2, 4],\n",
       " [3, 1, 4, 2],\n",
       " [3, 2, 1, 4],\n",
       " [3, 2, 4, 1],\n",
       " [3, 4, 1, 2],\n",
       " [3, 4, 2, 1],\n",
       " [4, 1, 2, 3],\n",
       " [4, 1, 3, 2],\n",
       " [4, 2, 1, 3],\n",
       " [4, 2, 3, 1],\n",
       " [4, 3, 1, 2],\n",
       " [4, 3, 2, 1]]"
      ]
     },
     "execution_count": 120,
     "metadata": {},
     "output_type": "execute_result"
    }
   ],
   "source": [
    "sl.permute(nums)"
   ]
  }
 ],
 "metadata": {
  "kernelspec": {
   "display_name": "Python 3",
   "language": "python",
   "name": "python3"
  },
  "language_info": {
   "codemirror_mode": {
    "name": "ipython",
    "version": 3
   },
   "file_extension": ".py",
   "mimetype": "text/x-python",
   "name": "python",
   "nbconvert_exporter": "python",
   "pygments_lexer": "ipython3",
   "version": "3.8.5"
  }
 },
 "nbformat": 4,
 "nbformat_minor": 4
}
